{
 "cells": [
  {
   "cell_type": "markdown",
   "id": "43a2985c",
   "metadata": {},
   "source": [
    "#### Given a dataset with raw attributes (e.g., sales transactions), create new features (e.g., total revenue, customer frequency, category-based sales). Apply discretization, transformation, and outlier detection to improve dataset quality."
   ]
  },
  {
   "cell_type": "code",
   "execution_count": 1,
   "id": "eeebf7a3",
   "metadata": {},
   "outputs": [],
   "source": [
    "import pandas as pd\n",
    "import numpy as np\n",
    "from sklearn.preprocessing import StandardScaler\n",
    "import warnings\n",
    "\n",
    "# Suppress warnings for cleaner output (e.g., for pd.to_datetime('now'))\n",
    "warnings.filterwarnings('ignore')"
   ]
  },
  {
   "cell_type": "code",
   "execution_count": 2,
   "id": "55fdd96c",
   "metadata": {},
   "outputs": [
    {
     "name": "stdout",
     "output_type": "stream",
     "text": [
      "--- Raw Transactional Data ---\n",
      "   invoice_id  customer_id product_category  quantity  unit_price invoice_date\n",
      "0       A1001          101      Electronics         1         120   2023-01-10\n",
      "1       A1001          101         Clothing         2          30   2023-01-10\n",
      "2       A1002          102      Electronics         1         150   2023-01-11\n",
      "3       A1003          101            Books         3          15   2023-01-15\n",
      "4       A1003          101         Clothing         1          25   2023-01-15\n",
      "5       A1003          101             Home         1          50   2023-01-15\n",
      "6       A1004          103           Beauty         2          20   2023-01-20\n",
      "7       A1005          102      Electronics         1         130   2023-01-22\n",
      "8       A1005          102             Home         5          40   2023-01-22\n",
      "9       A1006          101            Books         1          18   2023-02-01\n",
      "10      A1007          104      Electronics         1        5000   2023-02-05\n",
      "11      A1008          104      Electronics         1        4800   2023-02-06\n",
      "<class 'pandas.core.frame.DataFrame'>\n",
      "RangeIndex: 12 entries, 0 to 11\n",
      "Data columns (total 6 columns):\n",
      " #   Column            Non-Null Count  Dtype         \n",
      "---  ------            --------------  -----         \n",
      " 0   invoice_id        12 non-null     object        \n",
      " 1   customer_id       12 non-null     int64         \n",
      " 2   product_category  12 non-null     object        \n",
      " 3   quantity          12 non-null     int64         \n",
      " 4   unit_price        12 non-null     int64         \n",
      " 5   invoice_date      12 non-null     datetime64[ns]\n",
      "dtypes: datetime64[ns](1), int64(3), object(2)\n",
      "memory usage: 708.0+ bytes\n"
     ]
    }
   ],
   "source": [
    "#%%\n",
    "# Create a raw dataset of sales transactions\n",
    "data = {\n",
    "    'invoice_id': ['A1001', 'A1001', 'A1002', 'A1003', 'A1003', 'A1003', \n",
    "                   'A1004', 'A1005', 'A1005', 'A1006', 'A1007', 'A1008'],\n",
    "    'customer_id': [101, 101, 102, 101, 101, 101, \n",
    "                    103, 102, 102, 101, 104, 104],\n",
    "    'product_category': ['Electronics', 'Clothing', 'Electronics', 'Books', 'Clothing', 'Home', \n",
    "                         'Beauty', 'Electronics', 'Home', 'Books', 'Electronics', 'Electronics'],\n",
    "    'quantity': [1, 2, 1, 3, 1, 1, \n",
    "                 2, 1, 5, 1, 1, 1],\n",
    "    'unit_price': [120, 30, 150, 15, 25, 50, \n",
    "                   20, 130, 40, 18, 5000, 4800], # Added large values for outlier detection\n",
    "    'invoice_date': [\n",
    "        '2023-01-10', '2023-01-10', '2023-01-11', '2023-01-15', '2023-01-15', '2023-01-15',\n",
    "        '2023-01-20', '2023-01-22', '2023-01-22', '2023-02-01', '2023-02-05', '2023-02-06'\n",
    "    ]\n",
    "}\n",
    "\n",
    "df = pd.DataFrame(data)\n",
    "df['invoice_date'] = pd.to_datetime(df['invoice_date'])\n",
    "\n",
    "print(\"--- Raw Transactional Data ---\")\n",
    "print(df)\n",
    "df.info()"
   ]
  },
  {
   "cell_type": "code",
   "execution_count": 3,
   "id": "a93ca8b3",
   "metadata": {},
   "outputs": [
    {
     "name": "stdout",
     "output_type": "stream",
     "text": [
      "--- Data with total_price ---\n",
      "   invoice_id product_category  quantity  unit_price  total_price\n",
      "0       A1001      Electronics         1         120          120\n",
      "1       A1001         Clothing         2          30           60\n",
      "2       A1002      Electronics         1         150          150\n",
      "3       A1003            Books         3          15           45\n",
      "4       A1003         Clothing         1          25           25\n",
      "5       A1003             Home         1          50           50\n",
      "6       A1004           Beauty         2          20           40\n",
      "7       A1005      Electronics         1         130          130\n",
      "8       A1005             Home         5          40          200\n",
      "9       A1006            Books         1          18           18\n",
      "10      A1007      Electronics         1        5000         5000\n",
      "11      A1008      Electronics         1        4800         4800\n"
     ]
    }
   ],
   "source": [
    "#%%\n",
    "# Create a total_price column (quantity * unit_price)\n",
    "df['total_price'] = df['quantity'] * df['unit_price']\n",
    "\n",
    "print(\"--- Data with total_price ---\")\n",
    "print(df[['invoice_id', 'product_category', 'quantity', 'unit_price', 'total_price']])"
   ]
  },
  {
   "cell_type": "code",
   "execution_count": 4,
   "id": "cf84984d",
   "metadata": {},
   "outputs": [
    {
     "name": "stdout",
     "output_type": "stream",
     "text": [
      "Snapshot date for recency: 2023-02-07\n",
      "\n",
      "--- Aggregated Customer Data ---\n",
      "             total_revenue  customer_frequency  days_since_last_purchase\n",
      "customer_id                                                             \n",
      "101                    318                   3                         6\n",
      "102                    480                   2                        16\n",
      "103                     40                   1                        18\n",
      "104                   9800                   2                         1\n"
     ]
    }
   ],
   "source": [
    "#%%\n",
    "# Define a \"snapshot date\" to calculate recency (e.g., the day after the last transaction)\n",
    "snapshot_date = df['invoice_date'].max() + pd.Timedelta(days=1)\n",
    "print(f\"Snapshot date for recency: {snapshot_date.date()}\")\n",
    "\n",
    "# Aggregate data at the customer level\n",
    "customer_df = df.groupby('customer_id').agg(\n",
    "    total_revenue=('total_price', 'sum'),\n",
    "    customer_frequency=('invoice_id', 'nunique'),\n",
    "    most_recent_purchase=('invoice_date', 'max')\n",
    ")\n",
    "\n",
    "# Calculate recency (days_since_last_purchase)\n",
    "customer_df['days_since_last_purchase'] = (snapshot_date - customer_df['most_recent_purchase']).dt.days\n",
    "\n",
    "# Drop the original date column as it's no longer needed\n",
    "customer_df = customer_df.drop(columns=['most_recent_purchase'])\n",
    "\n",
    "print(\"\\n--- Aggregated Customer Data ---\")\n",
    "print(customer_df)"
   ]
  },
  {
   "cell_type": "code",
   "execution_count": 5,
   "id": "19f9b506",
   "metadata": {},
   "outputs": [
    {
     "name": "stdout",
     "output_type": "stream",
     "text": [
      "--- Customer Sales by Category ---\n",
      "product_category  sales_Beauty  sales_Books  sales_Clothing  \\\n",
      "customer_id                                                   \n",
      "101                        0.0         63.0            85.0   \n",
      "102                        0.0          0.0             0.0   \n",
      "103                       40.0          0.0             0.0   \n",
      "104                        0.0          0.0             0.0   \n",
      "\n",
      "product_category  sales_Electronics  sales_Home  \n",
      "customer_id                                      \n",
      "101                           120.0        50.0  \n",
      "102                           280.0       200.0  \n",
      "103                             0.0         0.0  \n",
      "104                          9800.0         0.0  \n",
      "\n",
      "--- Combined Customer Data ---\n",
      "             total_revenue  customer_frequency  days_since_last_purchase  \\\n",
      "customer_id                                                                \n",
      "101                    318                   3                         6   \n",
      "102                    480                   2                        16   \n",
      "103                     40                   1                        18   \n",
      "104                   9800                   2                         1   \n",
      "\n",
      "             sales_Beauty  sales_Books  sales_Clothing  sales_Electronics  \\\n",
      "customer_id                                                                 \n",
      "101                   0.0         63.0            85.0              120.0   \n",
      "102                   0.0          0.0             0.0              280.0   \n",
      "103                  40.0          0.0             0.0                0.0   \n",
      "104                   0.0          0.0             0.0             9800.0   \n",
      "\n",
      "             sales_Home  \n",
      "customer_id              \n",
      "101                50.0  \n",
      "102               200.0  \n",
      "103                 0.0  \n",
      "104                 0.0  \n"
     ]
    }
   ],
   "source": [
    "#%%\n",
    "# Create category-based sales features using pivot_table\n",
    "category_sales = df.pivot_table(\n",
    "    index='customer_id',\n",
    "    columns='product_category',\n",
    "    values='total_price',\n",
    "    aggfunc='sum'\n",
    ").fillna(0) # Fill NaNs with 0 for customers who didn't buy in a category\n",
    "\n",
    "# Add a prefix to the column names for clarity\n",
    "category_sales = category_sales.add_prefix('sales_')\n",
    "\n",
    "print(\"--- Customer Sales by Category ---\")\n",
    "print(category_sales)\n",
    "\n",
    "# Merge this back into our main customer_df\n",
    "customer_df = customer_df.join(category_sales)\n",
    "\n",
    "print(\"\\n--- Combined Customer Data ---\")\n",
    "print(customer_df)"
   ]
  },
  {
   "cell_type": "code",
   "execution_count": 6,
   "id": "0a8b21c6",
   "metadata": {},
   "outputs": [
    {
     "name": "stdout",
     "output_type": "stream",
     "text": [
      "--- Data with Discretized Frequency ---\n",
      "             customer_frequency frequency_group\n",
      "customer_id                                    \n",
      "101                           3            High\n",
      "102                           2          Medium\n",
      "103                           1             Low\n",
      "104                           2          Medium\n"
     ]
    }
   ],
   "source": [
    "#%%\n",
    "# Discretize 'customer_frequency' into groups\n",
    "# We'll define bins: 1 = Low, 2 = Medium, 3+ = High\n",
    "bins = [0, 1, 2, np.inf]\n",
    "labels = ['Low', 'Medium', 'High']\n",
    "\n",
    "customer_df['frequency_group'] = pd.cut(\n",
    "    customer_df['customer_frequency'], \n",
    "    bins=bins, \n",
    "    labels=labels, \n",
    "    right=True\n",
    ")\n",
    "\n",
    "print(\"--- Data with Discretized Frequency ---\")\n",
    "print(customer_df[['customer_frequency', 'frequency_group']])"
   ]
  },
  {
   "cell_type": "code",
   "execution_count": 7,
   "id": "ae7a28b7",
   "metadata": {},
   "outputs": [
    {
     "name": "stdout",
     "output_type": "stream",
     "text": [
      "\n",
      "--- Log-Transformed Revenue ---\n",
      "             total_revenue  log_revenue\n",
      "customer_id                            \n",
      "101                    318     5.765191\n",
      "102                    480     6.175867\n",
      "103                     40     3.713572\n",
      "104                   9800     9.190240\n",
      "\n",
      "--- Standard-Scaled Revenue ---\n",
      "             total_revenue  scaled_revenue\n",
      "customer_id                               \n",
      "101                    318       -0.567558\n",
      "102                    480       -0.528290\n",
      "103                     40       -0.634942\n",
      "104                   9800        1.730790\n"
     ]
    }
   ],
   "source": [
    "#%%\n",
    "# 1. Log Transformation for skewed data (e.g., revenue)\n",
    "# We use np.log1p which calculates log(1 + x) to handle potential zero values\n",
    "customer_df['log_revenue'] = np.log1p(customer_df['total_revenue'])\n",
    "\n",
    "print(\"\\n--- Log-Transformed Revenue ---\")\n",
    "print(customer_df[['total_revenue', 'log_revenue']])\n",
    "\n",
    "# 2. Standardization (Z-score scaling)\n",
    "scaler = StandardScaler()\n",
    "\n",
    "# We fit_transform the scaler. Note the .values and reshaping.\n",
    "scaled_revenue = scaler.fit_transform(customer_df[['total_revenue']].values)\n",
    "customer_df['scaled_revenue'] = scaled_revenue\n",
    "\n",
    "print(\"\\n--- Standard-Scaled Revenue ---\")\n",
    "print(customer_df[['total_revenue', 'scaled_revenue']])"
   ]
  },
  {
   "cell_type": "code",
   "execution_count": 8,
   "id": "7922f271",
   "metadata": {},
   "outputs": [
    {
     "name": "stdout",
     "output_type": "stream",
     "text": [
      "--- Outlier Detection for 'total_revenue' ---\n",
      "Q1: 248.50\n",
      "Q3: 2810.00\n",
      "IQR: 2561.50\n",
      "Lower Bound (Outliers <): -3593.75\n",
      "Upper Bound (Outliers >): 6652.25\n",
      "\n",
      "--- Customers Flagged as Outliers ---\n",
      "             total_revenue  customer_frequency  days_since_last_purchase  \\\n",
      "customer_id                                                                \n",
      "104                   9800                   2                         1   \n",
      "\n",
      "             sales_Beauty  sales_Books  sales_Clothing  sales_Electronics  \\\n",
      "customer_id                                                                 \n",
      "104                   0.0          0.0             0.0             9800.0   \n",
      "\n",
      "             sales_Home frequency_group  log_revenue  scaled_revenue  \\\n",
      "customer_id                                                            \n",
      "104                 0.0          Medium      9.19024         1.73079   \n",
      "\n",
      "             is_revenue_outlier  \n",
      "customer_id                      \n",
      "104                        True  \n"
     ]
    }
   ],
   "source": [
    "#%%\n",
    "# Outlier Detection for 'total_revenue' using the IQR method\n",
    "feature = 'total_revenue'\n",
    "Q1 = customer_df[feature].quantile(0.25)\n",
    "Q3 = customer_df[feature].quantile(0.75)\n",
    "IQR = Q3 - Q1\n",
    "\n",
    "lower_bound = Q1 - 1.5 * IQR\n",
    "upper_bound = Q3 + 1.5 * IQR\n",
    "\n",
    "print(f\"--- Outlier Detection for '{feature}' ---\")\n",
    "print(f\"Q1: {Q1:.2f}\")\n",
    "print(f\"Q3: {Q3:.2f}\")\n",
    "print(f\"IQR: {IQR:.2f}\")\n",
    "print(f\"Lower Bound (Outliers <): {lower_bound:.2f}\")\n",
    "print(f\"Upper Bound (Outliers >): {upper_bound:.2f}\")\n",
    "\n",
    "# Identify and flag the outliers\n",
    "customer_df['is_revenue_outlier'] = (customer_df[feature] < lower_bound) | (customer_df[feature] > upper_bound)\n",
    "\n",
    "print(\"\\n--- Customers Flagged as Outliers ---\")\n",
    "print(customer_df[customer_df['is_revenue_outlier']])"
   ]
  },
  {
   "cell_type": "code",
   "execution_count": 9,
   "id": "806790c6",
   "metadata": {},
   "outputs": [
    {
     "name": "stdout",
     "output_type": "stream",
     "text": [
      "\n",
      "--- FINAL PROCESSED CUSTOMER DATASET ---\n",
      "|   customer_id |   total_revenue |   customer_frequency |   days_since_last_purchase |   sales_Beauty |   sales_Books |   sales_Clothing |   sales_Electronics |   sales_Home | frequency_group   |   log_revenue |   scaled_revenue | is_revenue_outlier   |\n",
      "|--------------:|----------------:|---------------------:|---------------------------:|---------------:|--------------:|-----------------:|--------------------:|-------------:|:------------------|--------------:|-----------------:|:---------------------|\n",
      "|           101 |             318 |                    3 |                          6 |           0.00 |         63.00 |            85.00 |              120.00 |        50.00 | High              |          5.77 |            -0.57 | False                |\n",
      "|           102 |             480 |                    2 |                         16 |           0.00 |          0.00 |             0.00 |              280.00 |       200.00 | Medium            |          6.18 |            -0.53 | False                |\n",
      "|           103 |              40 |                    1 |                         18 |          40.00 |          0.00 |             0.00 |                0.00 |         0.00 | Low               |          3.71 |            -0.63 | False                |\n",
      "|           104 |            9800 |                    2 |                          1 |           0.00 |          0.00 |             0.00 |             9800.00 |         0.00 | Medium            |          9.19 |             1.73 | True                 |\n",
      "\n",
      "\n",
      "Final Data Info:\n",
      "<class 'pandas.core.frame.DataFrame'>\n",
      "Index: 4 entries, 101 to 104\n",
      "Data columns (total 12 columns):\n",
      " #   Column                    Non-Null Count  Dtype   \n",
      "---  ------                    --------------  -----   \n",
      " 0   total_revenue             4 non-null      int64   \n",
      " 1   customer_frequency        4 non-null      int64   \n",
      " 2   days_since_last_purchase  4 non-null      int64   \n",
      " 3   sales_Beauty              4 non-null      float64 \n",
      " 4   sales_Books               4 non-null      float64 \n",
      " 5   sales_Clothing            4 non-null      float64 \n",
      " 6   sales_Electronics         4 non-null      float64 \n",
      " 7   sales_Home                4 non-null      float64 \n",
      " 8   frequency_group           4 non-null      category\n",
      " 9   log_revenue               4 non-null      float64 \n",
      " 10  scaled_revenue            4 non-null      float64 \n",
      " 11  is_revenue_outlier        4 non-null      bool    \n",
      "dtypes: bool(1), category(1), float64(7), int64(3)\n",
      "memory usage: 492.0 bytes\n"
     ]
    }
   ],
   "source": [
    "#%%\n",
    "print(\"\\n--- FINAL PROCESSED CUSTOMER DATASET ---\")\n",
    "\n",
    "# Re-ordering columns for a cleaner view\n",
    "all_columns = [\n",
    "    # Original Aggregated\n",
    "    'total_revenue', \n",
    "    'customer_frequency', \n",
    "    'days_since_last_purchase',\n",
    "    # Category Sales\n",
    "    'sales_Beauty', \n",
    "    'sales_Books', \n",
    "    'sales_Clothing', \n",
    "    'sales_Electronics', \n",
    "    'sales_Home',\n",
    "    # Discretized\n",
    "    'frequency_group',\n",
    "    # Transformed\n",
    "    'log_revenue', \n",
    "    'scaled_revenue',\n",
    "    # Outlier Flag\n",
    "    'is_revenue_outlier'\n",
    "]\n",
    "\n",
    "# Ensure all columns exist, in case a category wasn't in the sample data\n",
    "final_cols = [col for col in all_columns if col in customer_df.columns]\n",
    "print(customer_df[final_cols].to_markdown(floatfmt=\".2f\"))\n",
    "\n",
    "print(\"\\n\\nFinal Data Info:\")\n",
    "customer_df.info()"
   ]
  },
  {
   "cell_type": "code",
   "execution_count": null,
   "id": "51df0778",
   "metadata": {},
   "outputs": [],
   "source": []
  }
 ],
 "metadata": {
  "kernelspec": {
   "display_name": "Python 3",
   "language": "python",
   "name": "python3"
  },
  "language_info": {
   "codemirror_mode": {
    "name": "ipython",
    "version": 3
   },
   "file_extension": ".py",
   "mimetype": "text/x-python",
   "name": "python",
   "nbconvert_exporter": "python",
   "pygments_lexer": "ipython3",
   "version": "3.11.4"
  }
 },
 "nbformat": 4,
 "nbformat_minor": 5
}
