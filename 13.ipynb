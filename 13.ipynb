{
 "cells": [
  {
   "cell_type": "markdown",
   "id": "c80ba506",
   "metadata": {},
   "source": [
    "Use a dataset suitable for Linear Regression (e.g., house prices). Before training, apply\n",
    "feature scaling or standardization to the independent variables using NumPy and/or\n",
    "Pandas and then Scikit-learn's preprocessing tools. Implement the Linear Regression\n",
    "model and Evaluate models using R², RMSE, and MAE. Discuss overfitting and apply\n",
    "regularization techniques if needed."
   ]
  },
  {
   "cell_type": "markdown",
   "id": "326a9a13",
   "metadata": {},
   "source": [
    "1. Imports and Data Loading"
   ]
  },
  {
   "cell_type": "code",
   "execution_count": 1,
   "id": "d5e65346",
   "metadata": {},
   "outputs": [
    {
     "name": "stdout",
     "output_type": "stream",
     "text": [
      "--- Initial Data (X) ---\n",
      "   MedInc  HouseAge  AveRooms  AveBedrms  Population  AveOccup  Latitude  \\\n",
      "0  8.3252      41.0  6.984127   1.023810       322.0  2.555556     37.88   \n",
      "1  8.3014      21.0  6.238137   0.971880      2401.0  2.109842     37.86   \n",
      "2  7.2574      52.0  8.288136   1.073446       496.0  2.802260     37.85   \n",
      "3  5.6431      52.0  5.817352   1.073059       558.0  2.547945     37.85   \n",
      "4  3.8462      52.0  6.281853   1.081081       565.0  2.181467     37.85   \n",
      "\n",
      "   Longitude  \n",
      "0    -122.23  \n",
      "1    -122.22  \n",
      "2    -122.24  \n",
      "3    -122.25  \n",
      "4    -122.25  \n",
      "\n",
      "--- Data Info ---\n",
      "<class 'pandas.core.frame.DataFrame'>\n",
      "RangeIndex: 20640 entries, 0 to 20639\n",
      "Data columns (total 8 columns):\n",
      " #   Column      Non-Null Count  Dtype  \n",
      "---  ------      --------------  -----  \n",
      " 0   MedInc      20640 non-null  float64\n",
      " 1   HouseAge    20640 non-null  float64\n",
      " 2   AveRooms    20640 non-null  float64\n",
      " 3   AveBedrms   20640 non-null  float64\n",
      " 4   Population  20640 non-null  float64\n",
      " 5   AveOccup    20640 non-null  float64\n",
      " 6   Latitude    20640 non-null  float64\n",
      " 7   Longitude   20640 non-null  float64\n",
      "dtypes: float64(8)\n",
      "memory usage: 1.3 MB\n",
      "\n",
      "Training set shape: (16512, 8)\n",
      "Testing set shape: (4128, 8)\n"
     ]
    }
   ],
   "source": [
    "import pandas as pd\n",
    "import numpy as np\n",
    "from sklearn.datasets import fetch_california_housing\n",
    "from sklearn.model_selection import train_test_split\n",
    "from sklearn.linear_model import LinearRegression, Ridge, Lasso\n",
    "from sklearn.preprocessing import StandardScaler\n",
    "from sklearn.metrics import mean_squared_error, mean_absolute_error, r2_score\n",
    "\n",
    "# Load the dataset\n",
    "housing = fetch_california_housing()\n",
    "\n",
    "# Create a Pandas DataFrame for easier handling\n",
    "X = pd.DataFrame(housing.data, columns=housing.feature_names)\n",
    "y = pd.Series(housing.target, name='MedHouseVal')\n",
    "\n",
    "# Display the first few rows and info\n",
    "print(\"--- Initial Data (X) ---\")\n",
    "print(X.head())\n",
    "print(\"\\n--- Data Info ---\")\n",
    "X.info()\n",
    "\n",
    "# Split the data into training and testing sets\n",
    "# We hold out 20% of the data for testing\n",
    "X_train, X_test, y_train, y_test = train_test_split(X, y, test_size=0.2, random_state=42)\n",
    "\n",
    "print(f\"\\nTraining set shape: {X_train.shape}\")\n",
    "print(f\"Testing set shape: {X_test.shape}\")"
   ]
  },
  {
   "cell_type": "markdown",
   "id": "bc2833fc",
   "metadata": {},
   "source": [
    "2. Preprocessing & Model 1: Manual Standardization (NumPy/Pandas)"
   ]
  },
  {
   "cell_type": "code",
   "execution_count": 2,
   "id": "5cde61f7",
   "metadata": {},
   "outputs": [
    {
     "name": "stdout",
     "output_type": "stream",
     "text": [
      "\n",
      "--- Training Set Mean ---\n",
      "MedInc           3.880754\n",
      "HouseAge        28.608285\n",
      "AveRooms         5.435235\n",
      "AveBedrms        1.096685\n",
      "Population    1426.453004\n",
      "AveOccup         3.096961\n",
      "Latitude        35.643149\n",
      "Longitude     -119.582290\n",
      "dtype: float64\n",
      "\n",
      "--- Manually Scaled Training Data (Head) ---\n",
      "         MedInc  HouseAge  AveRooms  AveBedrms  Population  AveOccup  \\\n",
      "14196 -0.326186  0.348480 -0.174911  -0.208359    0.768253  0.051375   \n",
      "8267  -0.035842  1.618069 -0.402823  -0.128526   -0.098898 -0.117359   \n",
      "17445  0.144697 -1.952651  0.088213  -0.257530   -0.449804 -0.032279   \n",
      "14265 -1.017834  0.586528 -0.599997  -0.145152   -0.007434  0.077505   \n",
      "2271  -0.171483  1.141973  0.348997   0.086622   -0.485862 -0.068830   \n",
      "\n",
      "       Latitude  Longitude  \n",
      "14196 -1.372770   1.272548  \n",
      "8267  -0.876669   0.709141  \n",
      "17445 -0.460133  -0.447590  \n",
      "14265 -1.382130   1.232661  \n",
      "2271   0.532068  -0.108548  \n",
      "\n",
      "--- Training Model 1 (Manual Scaling) ---\n",
      "\n",
      "--- Model 1 Evaluation (Manual Scaling) ---\n",
      "R-squared (R²): 0.5758\n",
      "Root Mean Squared Error (RMSE): 0.7456\n",
      "Mean Absolute Error (MAE): 0.5332\n"
     ]
    }
   ],
   "source": [
    "# --- Manual Standardization (Method 1) ---\n",
    "\n",
    "# 1. Calculate mean and std from the TRAINING data\n",
    "train_mean = X_train.mean()\n",
    "train_std = X_train.std()\n",
    "\n",
    "print(\"\\n--- Training Set Mean ---\")\n",
    "print(train_mean)\n",
    "\n",
    "# 2. Apply the transformation to both train and test sets\n",
    "X_train_manual_scaled = (X_train - train_mean) / train_std\n",
    "X_test_manual_scaled = (X_test - train_mean) / train_std\n",
    "\n",
    "print(\"\\n--- Manually Scaled Training Data (Head) ---\")\n",
    "print(X_train_manual_scaled.head())\n",
    "\n",
    "# --- Train Model 1 ---\n",
    "print(\"\\n--- Training Model 1 (Manual Scaling) ---\")\n",
    "model_manual = LinearRegression()\n",
    "model_manual.fit(X_train_manual_scaled, y_train)\n",
    "\n",
    "# --- Evaluate Model 1 ---\n",
    "y_pred_manual = model_manual.predict(X_test_manual_scaled)\n",
    "\n",
    "print(\"\\n--- Model 1 Evaluation (Manual Scaling) ---\")\n",
    "r2_manual = r2_score(y_test, y_pred_manual)\n",
    "rmse_manual = np.sqrt(mean_squared_error(y_test, y_pred_manual))\n",
    "mae_manual = mean_absolute_error(y_test, y_pred_manual)\n",
    "\n",
    "print(f\"R-squared (R²): {r2_manual:.4f}\")\n",
    "print(f\"Root Mean Squared Error (RMSE): {rmse_manual:.4f}\")\n",
    "print(f\"Mean Absolute Error (MAE): {mae_manual:.4f}\")"
   ]
  },
  {
   "cell_type": "markdown",
   "id": "23407f95",
   "metadata": {},
   "source": [
    "3. Preprocessing & Model 2: Scikit-learn StandardScaler"
   ]
  },
  {
   "cell_type": "code",
   "execution_count": 3,
   "id": "2aad096b",
   "metadata": {},
   "outputs": [
    {
     "name": "stdout",
     "output_type": "stream",
     "text": [
      "\n",
      "--- Scikit-learn Scaled Training Data (First 5 Rows) ---\n",
      "[[-0.326196    0.34849025 -0.17491646 -0.20836543  0.76827628  0.05137609\n",
      "  -1.3728112   1.27258656]\n",
      " [-0.03584338  1.61811813 -0.40283542 -0.12853018 -0.09890135 -0.11736222\n",
      "  -0.87669601  0.70916212]\n",
      " [ 0.14470145 -1.95271028  0.08821601 -0.25753771 -0.44981806 -0.03227969\n",
      "  -0.46014647 -0.44760309]\n",
      " [-1.01786438  0.58654547 -0.60001532 -0.14515634 -0.00743434  0.07750687\n",
      "  -1.38217186  1.23269811]\n",
      " [-0.17148831  1.14200767  0.3490073   0.08662432 -0.48587717 -0.06883176\n",
      "   0.5320839  -0.10855122]]\n",
      "\n",
      "--- Training Model 2 (StandardScaler) ---\n",
      "\n",
      "--- Model 2 Evaluation (StandardScaler) ---\n",
      "R-squared (R²): 0.5758\n",
      "Root Mean Squared Error (RMSE): 0.7456\n",
      "Mean Absolute Error (MAE): 0.5332\n"
     ]
    }
   ],
   "source": [
    "# --- Scikit-learn Standardization (Method 2) ---\n",
    "\n",
    "# 1. Initialize the scaler\n",
    "scaler = StandardScaler()\n",
    "\n",
    "# 2. Fit the scaler ONLY on the training data\n",
    "scaler.fit(X_train) \n",
    "\n",
    "# 3. Transform both the train and test data\n",
    "X_train_scaled = scaler.transform(X_train)\n",
    "X_test_scaled = scaler.transform(X_test)\n",
    "\n",
    "# Note: The output is a NumPy array, not a DataFrame\n",
    "print(\"\\n--- Scikit-learn Scaled Training Data (First 5 Rows) ---\")\n",
    "print(X_train_scaled[:5])\n",
    "\n",
    "# --- Train Model 2 ---\n",
    "print(\"\\n--- Training Model 2 (StandardScaler) ---\")\n",
    "model_sklearn = LinearRegression()\n",
    "model_sklearn.fit(X_train_scaled, y_train)\n",
    "\n",
    "# --- Evaluate Model 2 ---\n",
    "y_pred_sklearn = model_sklearn.predict(X_test_scaled)\n",
    "\n",
    "print(\"\\n--- Model 2 Evaluation (StandardScaler) ---\")\n",
    "r2_sklearn = r2_score(y_test, y_pred_sklearn)\n",
    "rmse_sklearn = np.sqrt(mean_squared_error(y_test, y_pred_sklearn))\n",
    "mae_sklearn = mean_absolute_error(y_test, y_pred_sklearn)\n",
    "\n",
    "print(f\"R-squared (R²): {r2_sklearn:.4f}\")\n",
    "print(f\"Root Mean Squared Error (RMSE): {rmse_sklearn:.4f}\")\n",
    "print(f\"Mean Absolute Error (MAE): {mae_sklearn:.4f}\")"
   ]
  },
  {
   "cell_type": "markdown",
   "id": "d8f5c2df",
   "metadata": {},
   "source": [
    "4. Overfitting and Regularization"
   ]
  },
  {
   "cell_type": "code",
   "execution_count": 4,
   "id": "aecb2996",
   "metadata": {},
   "outputs": [
    {
     "name": "stdout",
     "output_type": "stream",
     "text": [
      "\n",
      "--- Overfitting Check ---\n",
      "Training R²: 0.6126\n",
      "Testing R²:  0.5758\n"
     ]
    }
   ],
   "source": [
    "# Check for Overfitting\n",
    "train_score = model_sklearn.score(X_train_scaled, y_train) # R² on training data\n",
    "test_score = model_sklearn.score(X_test_scaled, y_test)   # R² on testing data\n",
    "\n",
    "print(f\"\\n--- Overfitting Check ---\")\n",
    "print(f\"Training R²: {train_score:.4f}\")\n",
    "print(f\"Testing R²:  {test_score:.4f}\")"
   ]
  },
  {
   "cell_type": "markdown",
   "id": "43615fc1",
   "metadata": {},
   "source": [
    "Model 3: Ridge Regression (L2)"
   ]
  },
  {
   "cell_type": "code",
   "execution_count": 5,
   "id": "e66c77ac",
   "metadata": {},
   "outputs": [
    {
     "name": "stdout",
     "output_type": "stream",
     "text": [
      "\n",
      "--- Training Model 3 (Ridge Regression, L2) ---\n",
      "\n",
      "--- Model 3 Evaluation (Ridge) ---\n",
      "R-squared (R²): 0.5758\n",
      "Root Mean Squared Error (RMSE): 0.7456\n",
      "Mean Absolute Error (MAE): 0.5332\n"
     ]
    }
   ],
   "source": [
    "print(\"\\n--- Training Model 3 (Ridge Regression, L2) ---\")\n",
    "# alpha controls the strength of the penalty. Higher alpha = stronger regularization.\n",
    "ridge_model = Ridge(alpha=1.0)\n",
    "ridge_model.fit(X_train_scaled, y_train)\n",
    "\n",
    "# --- Evaluate Model 3 ---\n",
    "y_pred_ridge = ridge_model.predict(X_test_scaled)\n",
    "\n",
    "print(\"\\n--- Model 3 Evaluation (Ridge) ---\")\n",
    "r2_ridge = r2_score(y_test, y_pred_ridge)\n",
    "rmse_ridge = np.sqrt(mean_squared_error(y_test, y_pred_ridge))\n",
    "mae_ridge = mean_absolute_error(y_test, y_pred_ridge)\n",
    "\n",
    "print(f\"R-squared (R²): {r2_ridge:.4f}\")\n",
    "print(f\"Root Mean Squared Error (RMSE): {rmse_ridge:.4f}\")\n",
    "print(f\"Mean Absolute Error (MAE): {mae_ridge:.4f}\")"
   ]
  },
  {
   "cell_type": "markdown",
   "id": "2fe0d75f",
   "metadata": {},
   "source": [
    "Model 4: Lasso Regression (L1)"
   ]
  },
  {
   "cell_type": "code",
   "execution_count": 6,
   "id": "9dfc9252",
   "metadata": {},
   "outputs": [
    {
     "name": "stdout",
     "output_type": "stream",
     "text": [
      "\n",
      "--- Training Model 4 (Lasso Regression, L1) ---\n",
      "\n",
      "--- Model 4 Evaluation (Lasso) ---\n",
      "R-squared (R²): 0.5816\n",
      "Root Mean Squared Error (RMSE): 0.7404\n",
      "Mean Absolute Error (MAE): 0.5353\n"
     ]
    }
   ],
   "source": [
    "print(\"\\n--- Training Model 4 (Lasso Regression, L1) ---\")\n",
    "# We often use a smaller alpha for Lasso\n",
    "lasso_model = Lasso(alpha=0.01)\n",
    "lasso_model.fit(X_train_scaled, y_train)\n",
    "\n",
    "# --- Evaluate Model 4 ---\n",
    "y_pred_lasso = lasso_model.predict(X_test_scaled)\n",
    "\n",
    "print(\"\\n--- Model 4 Evaluation (Lasso) ---\")\n",
    "r2_lasso = r2_score(y_test, y_pred_lasso)\n",
    "rmse_lasso = np.sqrt(mean_squared_error(y_test, y_pred_lasso))\n",
    "mae_lasso = mean_absolute_error(y_test, y_pred_lasso)\n",
    "\n",
    "print(f\"R-squared (R²): {r2_lasso:.4f}\")\n",
    "print(f\"Root Mean Squared Error (RMSE): {rmse_lasso:.4f}\")\n",
    "print(f\"Mean Absolute Error (MAE): {mae_lasso:.4f}\")"
   ]
  },
  {
   "cell_type": "markdown",
   "id": "303ed2fb",
   "metadata": {},
   "source": [
    "5. Final Comparison"
   ]
  },
  {
   "cell_type": "code",
   "execution_count": 7,
   "id": "7d5d8015",
   "metadata": {},
   "outputs": [
    {
     "name": "stdout",
     "output_type": "stream",
     "text": [
      "\n",
      "--- Coefficient Comparison ---\n",
      "      Feature    Linear     Ridge     Lasso\n",
      "0      MedInc  0.854383  0.854327  0.800957\n",
      "1    HouseAge  0.122546  0.122624  0.127087\n",
      "2    AveRooms -0.294410 -0.294210 -0.162759\n",
      "3   AveBedrms  0.339259  0.339008  0.206207\n",
      "4  Population -0.002308 -0.002282 -0.000000\n",
      "5    AveOccup -0.040829 -0.040833 -0.030602\n",
      "6    Latitude -0.896929 -0.896168 -0.790113\n",
      "7   Longitude -0.869842 -0.869071 -0.755674\n",
      "\n",
      "--- Metrics Comparison ---\n",
      "                        R²    RMSE     MAE\n",
      "Model                                     \n",
      "Linear              0.5758  0.7456  0.5332\n",
      "Ridge (alpha=1)     0.5758  0.7456  0.5332\n",
      "Lasso (alpha=0.01)  0.5816  0.7404  0.5353\n"
     ]
    }
   ],
   "source": [
    "# --- Final Model Comparison ---\n",
    "\n",
    "print(\"\\n--- Coefficient Comparison ---\")\n",
    "coef_df = pd.DataFrame({\n",
    "    'Feature': housing.feature_names,\n",
    "    'Linear': model_sklearn.coef_,\n",
    "    'Ridge': ridge_model.coef_,\n",
    "    'Lasso': lasso_model.coef_\n",
    "})\n",
    "print(coef_df)\n",
    "\n",
    "print(\"\\n--- Metrics Comparison ---\")\n",
    "metrics = {\n",
    "    'Model': ['Linear', 'Ridge (alpha=1)', 'Lasso (alpha=0.01)'],\n",
    "    'R²': [r2_sklearn, r2_ridge, r2_lasso],\n",
    "    'RMSE': [rmse_sklearn, rmse_ridge, rmse_lasso],\n",
    "    'MAE': [mae_sklearn, mae_ridge, mae_lasso]\n",
    "}\n",
    "metrics_df = pd.DataFrame(metrics).set_index('Model')\n",
    "print(metrics_df.round(4))"
   ]
  },
  {
   "cell_type": "code",
   "execution_count": null,
   "id": "ac8c2891",
   "metadata": {},
   "outputs": [],
   "source": []
  }
 ],
 "metadata": {
  "kernelspec": {
   "display_name": "base",
   "language": "python",
   "name": "python3"
  },
  "language_info": {
   "codemirror_mode": {
    "name": "ipython",
    "version": 3
   },
   "file_extension": ".py",
   "mimetype": "text/x-python",
   "name": "python",
   "nbconvert_exporter": "python",
   "pygments_lexer": "ipython3",
   "version": "3.12.7"
  }
 },
 "nbformat": 4,
 "nbformat_minor": 5
}
