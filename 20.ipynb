{
 "cells": [
  {
   "cell_type": "markdown",
   "id": "e6d4fec1",
   "metadata": {},
   "source": [
    "Apply an SVM model for classification. Experiment with at least two different kernel\n",
    "functions (e.g., linear, RBF) and analyze how the choice of kernel impacts the model's\n",
    "accuracy and training time."
   ]
  },
  {
   "cell_type": "markdown",
   "id": "589a0ce1",
   "metadata": {},
   "source": [
    "1. Imports and Data Preparation"
   ]
  },
  {
   "cell_type": "code",
   "execution_count": 1,
   "id": "4c791482",
   "metadata": {},
   "outputs": [
    {
     "name": "stdout",
     "output_type": "stream",
     "text": [
      "Training data shape: (398, 30)\n",
      "Testing data shape: (171, 30)\n"
     ]
    }
   ],
   "source": [
    "import pandas as pd\n",
    "import numpy as np\n",
    "import time\n",
    "from sklearn.datasets import load_breast_cancer\n",
    "from sklearn.model_selection import train_test_split\n",
    "from sklearn.preprocessing import StandardScaler\n",
    "from sklearn.svm import SVC\n",
    "from sklearn.metrics import accuracy_score, classification_report\n",
    "\n",
    "# 1. Load the dataset\n",
    "cancer = load_breast_cancer()\n",
    "X = cancer.data\n",
    "y = cancer.target\n",
    "\n",
    "# 2. Split into training and testing sets\n",
    "X_train, X_test, y_train, y_test = train_test_split(X, y, test_size=0.3, random_state=42)\n",
    "\n",
    "# 3. Scale the data\n",
    "# This is CRITICAL for SVMs to perform correctly\n",
    "scaler = StandardScaler()\n",
    "X_train_scaled = scaler.fit_transform(X_train)\n",
    "X_test_scaled = scaler.transform(X_test)\n",
    "\n",
    "print(f\"Training data shape: {X_train_scaled.shape}\")\n",
    "print(f\"Testing data shape: {X_test_scaled.shape}\")"
   ]
  },
  {
   "cell_type": "markdown",
   "id": "7d7574da",
   "metadata": {},
   "source": [
    "2. Experiment 1: Linear Kernel"
   ]
  },
  {
   "cell_type": "code",
   "execution_count": 2,
   "id": "111bf671",
   "metadata": {},
   "outputs": [
    {
     "name": "stdout",
     "output_type": "stream",
     "text": [
      "\n",
      "--- Training SVM with Linear Kernel ---\n",
      "Training Time: 0.013000 seconds\n",
      "Accuracy: 0.9766\n",
      "Classification Report:\n",
      "              precision    recall  f1-score   support\n",
      "\n",
      "   malignant       0.97      0.97      0.97        63\n",
      "      benign       0.98      0.98      0.98       108\n",
      "\n",
      "    accuracy                           0.98       171\n",
      "   macro avg       0.97      0.97      0.97       171\n",
      "weighted avg       0.98      0.98      0.98       171\n",
      "\n"
     ]
    }
   ],
   "source": [
    "# --- Model 1: Linear Kernel ---\n",
    "print(\"\\n--- Training SVM with Linear Kernel ---\")\n",
    "\n",
    "# Record start time\n",
    "start_time_linear = time.time()\n",
    "\n",
    "# Initialize and train the model\n",
    "svm_linear = SVC(kernel='linear', random_state=42)\n",
    "svm_linear.fit(X_train_scaled, y_train)\n",
    "\n",
    "# Record end time and calculate duration\n",
    "end_time_linear = time.time()\n",
    "time_linear = end_time_linear - start_time_linear\n",
    "\n",
    "# Make predictions\n",
    "y_pred_linear = svm_linear.predict(X_test_scaled)\n",
    "\n",
    "# Evaluate\n",
    "acc_linear = accuracy_score(y_test, y_pred_linear)\n",
    "print(f\"Training Time: {time_linear:.6f} seconds\")\n",
    "print(f\"Accuracy: {acc_linear:.4f}\")\n",
    "print(\"Classification Report:\")\n",
    "print(classification_report(y_test, y_pred_linear, target_names=cancer.target_names))"
   ]
  },
  {
   "cell_type": "markdown",
   "id": "8b3b8fd4",
   "metadata": {},
   "source": [
    "3. Experiment 2: RBF Kernel"
   ]
  },
  {
   "cell_type": "code",
   "execution_count": 3,
   "id": "36cbae62",
   "metadata": {},
   "outputs": [
    {
     "name": "stdout",
     "output_type": "stream",
     "text": [
      "\n",
      "--- Training SVM with RBF Kernel ---\n",
      "Training Time: 0.003000 seconds\n",
      "Accuracy: 0.9766\n",
      "Classification Report:\n",
      "              precision    recall  f1-score   support\n",
      "\n",
      "   malignant       0.97      0.97      0.97        63\n",
      "      benign       0.98      0.98      0.98       108\n",
      "\n",
      "    accuracy                           0.98       171\n",
      "   macro avg       0.97      0.97      0.97       171\n",
      "weighted avg       0.98      0.98      0.98       171\n",
      "\n"
     ]
    }
   ],
   "source": [
    "# --- Model 2: RBF Kernel ---\n",
    "print(\"\\n--- Training SVM with RBF Kernel ---\")\n",
    "\n",
    "# Record start time\n",
    "start_time_rbf = time.time()\n",
    "\n",
    "# Initialize and train the model\n",
    "svm_rbf = SVC(kernel='rbf', random_state=42)\n",
    "svm_rbf.fit(X_train_scaled, y_train)\n",
    "\n",
    "# Record end time and calculate duration\n",
    "end_time_rbf = time.time()\n",
    "time_rbf = end_time_rbf - start_time_rbf\n",
    "\n",
    "# Make predictions\n",
    "y_pred_rbf = svm_rbf.predict(X_test_scaled)\n",
    "\n",
    "# Evaluate\n",
    "acc_rbf = accuracy_score(y_test, y_pred_rbf)\n",
    "print(f\"Training Time: {time_rbf:.6f} seconds\")\n",
    "print(f\"Accuracy: {acc_rbf:.4f}\")\n",
    "print(\"Classification Report:\")\n",
    "print(classification_report(y_test, y_pred_rbf, target_names=cancer.target_names))"
   ]
  },
  {
   "cell_type": "code",
   "execution_count": null,
   "id": "69f953a0",
   "metadata": {},
   "outputs": [],
   "source": []
  }
 ],
 "metadata": {
  "kernelspec": {
   "display_name": "base",
   "language": "python",
   "name": "python3"
  },
  "language_info": {
   "codemirror_mode": {
    "name": "ipython",
    "version": 3
   },
   "file_extension": ".py",
   "mimetype": "text/x-python",
   "name": "python",
   "nbconvert_exporter": "python",
   "pygments_lexer": "ipython3",
   "version": "3.12.7"
  }
 },
 "nbformat": 4,
 "nbformat_minor": 5
}
