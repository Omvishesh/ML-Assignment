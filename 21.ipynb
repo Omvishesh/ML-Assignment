{
 "cells": [
  {
   "cell_type": "markdown",
   "id": "e9253fc4",
   "metadata": {},
   "source": [
    "Select a single, complex dataset and execute a full end-to-end data analysis workflow.\n",
    "This must include: data loading, preprocessing (handling missing values, feature\n",
    "scaling/normalization) , selecting and training a supervised learning model, and\n",
    "finally, evaluating and reporting the model's performance."
   ]
  },
  {
   "cell_type": "markdown",
   "id": "13cb5302",
   "metadata": {},
   "source": [
    "1. Data Loading and Exploration"
   ]
  },
  {
   "cell_type": "code",
   "execution_count": 1,
   "id": "627cbc79",
   "metadata": {},
   "outputs": [
    {
     "name": "stdout",
     "output_type": "stream",
     "text": [
      "--- Data Info (Checking for missing values and types) ---\n",
      "<class 'pandas.core.frame.DataFrame'>\n",
      "RangeIndex: 891 entries, 0 to 890\n",
      "Data columns (total 7 columns):\n",
      " #   Column    Non-Null Count  Dtype  \n",
      "---  ------    --------------  -----  \n",
      " 0   pclass    891 non-null    int64  \n",
      " 1   sex       891 non-null    object \n",
      " 2   age       714 non-null    float64\n",
      " 3   sibsp     891 non-null    int64  \n",
      " 4   parch     891 non-null    int64  \n",
      " 5   fare      891 non-null    float64\n",
      " 6   embarked  889 non-null    object \n",
      "dtypes: float64(2), int64(3), object(2)\n",
      "memory usage: 48.9+ KB\n",
      "\n",
      "Training set shape: (712, 7)\n",
      "Testing set shape: (179, 7)\n"
     ]
    }
   ],
   "source": [
    "import pandas as pd\n",
    "import numpy as np\n",
    "import seaborn as sns\n",
    "import matplotlib.pyplot as plt\n",
    "from sklearn.model_selection import train_test_split\n",
    "\n",
    "# Load the dataset\n",
    "df = sns.load_dataset('titanic')\n",
    "\n",
    "# --- 1. Define Features (X) and Target (y) ---\n",
    "# We select relevant features for prediction\n",
    "# 'pclass' (Ticket class) is numeric but acts like a category\n",
    "feature_cols = ['pclass', 'sex', 'age', 'sibsp', 'parch', 'fare', 'embarked']\n",
    "target_col = 'survived'\n",
    "\n",
    "X = df[feature_cols]\n",
    "y = df[target_col]\n",
    "\n",
    "# --- 2. Explore the Data ---\n",
    "print(\"--- Data Info (Checking for missing values and types) ---\")\n",
    "X.info()\n",
    "\n",
    "# --- 3. Split the Data ---\n",
    "# We split BEFORE preprocessing to prevent data leakage\n",
    "X_train, X_test, y_train, y_test = train_test_split(X, y, test_size=0.2, random_state=42)\n",
    "\n",
    "print(f\"\\nTraining set shape: {X_train.shape}\")\n",
    "print(f\"Testing set shape: {X_test.shape}\")"
   ]
  },
  {
   "cell_type": "markdown",
   "id": "41098584",
   "metadata": {},
   "source": [
    "2. Preprocessing Pipeline"
   ]
  },
  {
   "cell_type": "code",
   "execution_count": 2,
   "id": "d9885257",
   "metadata": {},
   "outputs": [],
   "source": [
    "from sklearn.pipeline import Pipeline\n",
    "from sklearn.impute import SimpleImputer\n",
    "from sklearn.preprocessing import StandardScaler, OneHotEncoder\n",
    "from sklearn.compose import ColumnTransformer\n",
    "\n",
    "# --- 1. Define feature lists ---\n",
    "numeric_features = ['age', 'fare', 'sibsp', 'parch']\n",
    "categorical_features = ['embarked', 'sex', 'pclass']\n",
    "\n",
    "# --- 2. Create the preprocessing pipelines ---\n",
    "\n",
    "# Numeric pipeline\n",
    "numeric_transformer = Pipeline(steps=[\n",
    "    ('imputer', SimpleImputer(strategy='median')),  # Fill missing 'age'\n",
    "    ('scaler', StandardScaler())                   # Scale all numeric data\n",
    "])\n",
    "\n",
    "# Categorical pipeline\n",
    "categorical_transformer = Pipeline(steps=[\n",
    "    ('imputer', SimpleImputer(strategy='most_frequent')), # Fill missing 'embarked'\n",
    "    ('onehot', OneHotEncoder(handle_unknown='ignore'))   # Convert categories to 0s/1s\n",
    "])\n",
    "\n",
    "# --- 3. Combine pipelines with ColumnTransformer ---\n",
    "# This preprocessor applies the right transformer to the right columns\n",
    "preprocessor = ColumnTransformer(\n",
    "    transformers=[\n",
    "        ('num', numeric_transformer, numeric_features),\n",
    "        ('cat', categorical_transformer, categorical_features)\n",
    "    ])"
   ]
  },
  {
   "cell_type": "markdown",
   "id": "a034f0cf",
   "metadata": {},
   "source": [
    "3. Model Selection and Training"
   ]
  },
  {
   "cell_type": "code",
   "execution_count": 3,
   "id": "78583d45",
   "metadata": {},
   "outputs": [
    {
     "name": "stdout",
     "output_type": "stream",
     "text": [
      "\n",
      "--- Training the full model pipeline... ---\n",
      "--- Training complete! ---\n"
     ]
    }
   ],
   "source": [
    "from sklearn.ensemble import RandomForestClassifier\n",
    "\n",
    "# --- 1. Create the full pipeline ---\n",
    "# It chains the preprocessor and the classifier\n",
    "full_pipeline = Pipeline(steps=[\n",
    "    ('preprocessor', preprocessor),\n",
    "    ('classifier', RandomForestClassifier(n_estimators=100, random_state=42))\n",
    "])\n",
    "\n",
    "# --- 2. Train the model ---\n",
    "# We fit the entire pipeline on the raw (unprocessed) training data\n",
    "print(\"\\n--- Training the full model pipeline... ---\")\n",
    "full_pipeline.fit(X_train, y_train)\n",
    "print(\"--- Training complete! ---\")"
   ]
  },
  {
   "cell_type": "markdown",
   "id": "c5100e60",
   "metadata": {},
   "source": [
    "4. Evaluation and Reporting"
   ]
  },
  {
   "cell_type": "code",
   "execution_count": 4,
   "id": "e8f3d2f2",
   "metadata": {},
   "outputs": [
    {
     "name": "stdout",
     "output_type": "stream",
     "text": [
      "\n",
      "Model Accuracy: 0.8212 (or 82.12%)\n",
      "\n",
      "--- Confusion Matrix ---\n"
     ]
    },
    {
     "data": {
      "image/png": "[encoded data removed]",
      "text/plain": [
       "<Figure size 640x480 with 2 Axes>"
      ]
     },
     "metadata": {},
     "output_type": "display_data"
    },
    {
     "name": "stdout",
     "output_type": "stream",
     "text": [
      "\n",
      "--- Classification Report ---\n",
      "                     precision    recall  f1-score   support\n",
      "\n",
      "Did not Survive (0)       0.84      0.86      0.85       105\n",
      "       Survived (1)       0.79      0.77      0.78        74\n",
      "\n",
      "           accuracy                           0.82       179\n",
      "          macro avg       0.82      0.81      0.81       179\n",
      "       weighted avg       0.82      0.82      0.82       179\n",
      "\n"
     ]
    }
   ],
   "source": [
    "from sklearn.metrics import accuracy_score, confusion_matrix, classification_report\n",
    "\n",
    "# --- 1. Make predictions ---\n",
    "y_pred = full_pipeline.predict(X_test)\n",
    "\n",
    "# --- 2. Calculate Accuracy ---\n",
    "accuracy = accuracy_score(y_test, y_pred)\n",
    "print(f\"\\nModel Accuracy: {accuracy:.4f} (or {accuracy*100:.2f}%)\")\n",
    "\n",
    "# --- 3. Confusion Matrix ---\n",
    "print(\"\\n--- Confusion Matrix ---\")\n",
    "cm = confusion_matrix(y_test, y_pred)\n",
    "sns.heatmap(cm, annot=True, fmt='d', cmap='Blues',\n",
    "            xticklabels=['Did not Survive', 'Survived'],\n",
    "            yticklabels=['Did not Survive', 'Survived'])\n",
    "plt.xlabel('Predicted')\n",
    "plt.ylabel('Actual')\n",
    "plt.title('Confusion Matrix')\n",
    "plt.show()\n",
    "\n",
    "# --- 4. Classification Report ---\n",
    "print(\"\\n--- Classification Report ---\")\n",
    "# '1' is 'Survived', '0' is 'Did not Survive'\n",
    "print(classification_report(y_test, y_pred, target_names=['Did not Survive (0)', 'Survived (1)']))"
   ]
  },
  {
   "cell_type": "code",
   "execution_count": null,
   "id": "1f9db6fd",
   "metadata": {},
   "outputs": [],
   "source": []
  }
 ],
 "metadata": {
  "kernelspec": {
   "display_name": "base",
   "language": "python",
   "name": "python3"
  },
  "language_info": {
   "codemirror_mode": {
    "name": "ipython",
    "version": 3
   },
   "file_extension": ".py",
   "mimetype": "text/x-python",
   "name": "python",
   "nbconvert_exporter": "python",
   "pygments_lexer": "ipython3",
   "version": "3.12.7"
  }
 },
 "nbformat": 4,
 "nbformat_minor": 5
}
