{
 "cells": [
  {
   "cell_type": "markdown",
   "id": "4c9704b0",
   "metadata": {},
   "source": [
    "Create a collection of functions, including a lambda function and at least one custom\n",
    "function, to systematically clean and process a dataset. Apply these functions to a\n",
    "Pandas DataFrame to demonstrate the efficiency of functional programming\n",
    "concepts in data manipulation."
   ]
  },
  {
   "cell_type": "markdown",
   "id": "cdd20571",
   "metadata": {},
   "source": [
    "1. Setup and Sample Data"
   ]
  },
  {
   "cell_type": "code",
   "execution_count": 1,
   "id": "ab412633",
   "metadata": {},
   "outputs": [
    {
     "name": "stdout",
     "output_type": "stream",
     "text": [
      "--- Original 'Dirty' DataFrame ---\n",
      "  EmployeeID     Name      Salary Department   BirthDate\n",
      "0       A101    Alice     $75,000      Sales  1990-05-15\n",
      "1       A102      Bob       52000         IT  1985-11-23\n",
      "2       A103  Charlie        $N/A      sales  1992-07-30\n",
      "3       A104    David      61,500  Marketing  2000-01-01\n",
      "4       A105      Eve  $48,000.50         IT  1995-03-12\n",
      "5       A106    Frank         NaN    Finance  1988-08-25\n",
      "\n",
      "--- Original Data Types ---\n",
      "<class 'pandas.core.frame.DataFrame'>\n",
      "RangeIndex: 6 entries, 0 to 5\n",
      "Data columns (total 5 columns):\n",
      " #   Column      Non-Null Count  Dtype \n",
      "---  ------      --------------  ----- \n",
      " 0   EmployeeID  6 non-null      object\n",
      " 1   Name        6 non-null      object\n",
      " 2   Salary      5 non-null      object\n",
      " 3   Department  6 non-null      object\n",
      " 4   BirthDate   6 non-null      object\n",
      "dtypes: object(5)\n",
      "memory usage: 372.0+ bytes\n"
     ]
    }
   ],
   "source": [
    "import pandas as pd\n",
    "import numpy as np\n",
    "\n",
    "# Create the \"dirty\" DataFrame\n",
    "data = {\n",
    "    'EmployeeID': ['A101', 'A102', 'A103', 'A104', 'A105', 'A106'],\n",
    "    'Name': ['Alice', 'Bob', 'Charlie', 'David', 'Eve', 'Frank'],\n",
    "    'Salary': ['$75,000', '52000', '$N/A', '61,500', '$48,000.50', np.nan],\n",
    "    'Department': ['Sales', 'IT', 'sales', 'Marketing', 'IT', 'Finance'],\n",
    "    'BirthDate': ['1990-05-15', '1985-11-23', '1992-07-30', '2000-01-01', '1995-03-12', '1988-08-25']\n",
    "}\n",
    "df = pd.DataFrame(data)\n",
    "\n",
    "print(\"--- Original 'Dirty' DataFrame ---\")\n",
    "print(df)\n",
    "print(\"\\n--- Original Data Types ---\")\n",
    "df.info()"
   ]
  },
  {
   "cell_type": "markdown",
   "id": "82bcd81a",
   "metadata": {},
   "source": [
    "2. The Function Collection"
   ]
  },
  {
   "cell_type": "markdown",
   "id": "704d23cc",
   "metadata": {},
   "source": [
    "Custom Function 1: clean_salary"
   ]
  },
  {
   "cell_type": "code",
   "execution_count": 2,
   "id": "2d3ba380",
   "metadata": {},
   "outputs": [],
   "source": [
    "def clean_salary(salary_val):\n",
    "    \"\"\"\n",
    "    Converts a salary string (e.g., '$75,000') to a numeric type (float).\n",
    "    Handles NaNs and invalid entries.\n",
    "    \"\"\"\n",
    "    # Pass through NaNs\n",
    "    if pd.isna(salary_val):\n",
    "        return np.nan\n",
    "    \n",
    "    try:\n",
    "        # Convert to string, remove symbols, and convert to float\n",
    "        salary_str = str(salary_val).replace('$', '').replace(',', '')\n",
    "        return float(salary_str)\n",
    "    except ValueError:\n",
    "        # Return NaN for entries like '$N/A'\n",
    "        return np.nan"
   ]
  },
  {
   "cell_type": "markdown",
   "id": "11986850",
   "metadata": {},
   "source": [
    "Custom Function 2: standardize_department"
   ]
  },
  {
   "cell_type": "code",
   "execution_count": 3,
   "id": "9c8b5dd7",
   "metadata": {},
   "outputs": [],
   "source": [
    "def standardize_department(dept):\n",
    "    \"\"\"\n",
    "    Standardizes department names to a consistent title-case format.\n",
    "    \"\"\"\n",
    "    if pd.isna(dept):\n",
    "        return 'Unknown'\n",
    "    \n",
    "    # .strip() removes whitespace, .title() capitalizes the first letter\n",
    "    return str(dept).strip().title()"
   ]
  },
  {
   "cell_type": "markdown",
   "id": "57e1a897",
   "metadata": {},
   "source": [
    "Custom Function 3: calculate_age"
   ]
  },
  {
   "cell_type": "code",
   "execution_count": 4,
   "id": "f91b7d25",
   "metadata": {},
   "outputs": [],
   "source": [
    "def calculate_age(birthdate):\n",
    "    \"\"\"\n",
    "    Calculates the age in years from a birthdate (Timestamp object).\n",
    "    \"\"\"\n",
    "    if pd.isna(birthdate):\n",
    "        return np.nan\n",
    "    \n",
    "    # 'today' is calculated each time, but this is fine for this example\n",
    "    today = pd.to_datetime('today')\n",
    "    \n",
    "    # Calculate age and convert to integer\n",
    "    age = (today - birthdate).days / 365.25\n",
    "    return int(age)"
   ]
  },
  {
   "cell_type": "markdown",
   "id": "505681f4",
   "metadata": {},
   "source": [
    "Lambda Function: categorize_salary"
   ]
  },
  {
   "cell_type": "code",
   "execution_count": 5,
   "id": "f8b4b0e7",
   "metadata": {},
   "outputs": [],
   "source": [
    "# A lambda function to be used with .apply()\n",
    "categorize_salary = lambda s: 'High' if s > 60000 else ('Medium' if s >= 50000 else 'Low')"
   ]
  },
  {
   "cell_type": "markdown",
   "id": "d71eaaee",
   "metadata": {},
   "source": [
    "3. Applying the Functions Systematically"
   ]
  },
  {
   "cell_type": "code",
   "execution_count": 6,
   "id": "88f3f0a8",
   "metadata": {},
   "outputs": [
    {
     "name": "stdout",
     "output_type": "stream",
     "text": [
      "\n",
      "--- Processing and Cleaning Data ---\n",
      "\n",
      "--- Final 'Clean' DataFrame ---\n",
      "  EmployeeID     Name  Salary_Clean Department_Std  Age Salary_Category\n",
      "0       A101    Alice       75000.0          Sales   35            High\n",
      "1       A102      Bob       52000.0             It   39          Medium\n",
      "2       A103  Charlie           NaN          Sales   33             Low\n",
      "3       A104    David       61500.0      Marketing   25            High\n",
      "4       A105      Eve       48000.5             It   30             Low\n",
      "5       A106    Frank           NaN        Finance   37             Low\n",
      "\n",
      "--- Final Data Types ---\n",
      "<class 'pandas.core.frame.DataFrame'>\n",
      "RangeIndex: 6 entries, 0 to 5\n",
      "Data columns (total 6 columns):\n",
      " #   Column           Non-Null Count  Dtype  \n",
      "---  ------           --------------  -----  \n",
      " 0   EmployeeID       6 non-null      object \n",
      " 1   Name             6 non-null      object \n",
      " 2   Salary_Clean     4 non-null      float64\n",
      " 3   Department_Std   6 non-null      object \n",
      " 4   Age              6 non-null      int64  \n",
      " 5   Salary_Category  6 non-null      object \n",
      "dtypes: float64(1), int64(1), object(4)\n",
      "memory usage: 420.0+ bytes\n"
     ]
    }
   ],
   "source": [
    "print(\"\\n--- Processing and Cleaning Data ---\")\n",
    "\n",
    "# We build a new, clean DataFrame in a single, readable chain\n",
    "df_clean = (\n",
    "    df.assign(\n",
    "        # 1. Clean Salary (uses custom `def` function)\n",
    "        Salary_Clean=lambda x: x['Salary'].apply(clean_salary),\n",
    "        \n",
    "        # 2. Standardize Department (uses custom `def` function)\n",
    "        Department_Std=lambda x: x['Department'].apply(standardize_department),\n",
    "        \n",
    "        # 3. Convert BirthDate (prerequisite for age calculation)\n",
    "        BirthDate_DT=lambda x: pd.to_datetime(x['BirthDate'])\n",
    "    )\n",
    "    # This second .assign() can see the columns created in the first one\n",
    "    .assign(\n",
    "        # 4. Calculate Age (uses custom `def` function)\n",
    "        Age=lambda x: x['BirthDate_DT'].apply(calculate_age)\n",
    "    )\n",
    "    # This third .assign() can see the 'Salary_Clean' column\n",
    "    .assign(\n",
    "        # 5. Apply Lambda Function\n",
    "        Salary_Category=lambda x: x['Salary_Clean'].apply(categorize_salary)\n",
    "    )\n",
    "    # Finally, drop the original \"dirty\" and intermediate columns\n",
    "    .drop(columns=['Salary', 'Department', 'BirthDate', 'BirthDate_DT'])\n",
    ")\n",
    "\n",
    "print(\"\\n--- Final 'Clean' DataFrame ---\")\n",
    "print(df_clean)\n",
    "print(\"\\n--- Final Data Types ---\")\n",
    "df_clean.info()"
   ]
  },
  {
   "cell_type": "code",
   "execution_count": null,
   "id": "55691c9f",
   "metadata": {},
   "outputs": [],
   "source": []
  }
 ],
 "metadata": {
  "kernelspec": {
   "display_name": "base",
   "language": "python",
   "name": "python3"
  },
  "language_info": {
   "codemirror_mode": {
    "name": "ipython",
    "version": 3
   },
   "file_extension": ".py",
   "mimetype": "text/x-python",
   "name": "python",
   "nbconvert_exporter": "python",
   "pygments_lexer": "ipython3",
   "version": "3.12.7"
  }
 },
 "nbformat": 4,
 "nbformat_minor": 5
}
