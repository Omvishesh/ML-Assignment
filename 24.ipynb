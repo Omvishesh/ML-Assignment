{
 "cells": [
  {
   "cell_type": "markdown",
   "id": "e1fc7380",
   "metadata": {},
   "source": [
    "# Q24: Hierarchical Data Structure & Recursive Traversal\n",
    "\n",
    "Design a data structure (e.g., a nested dictionary or list of lists) to represent hierarchical data (like a file system or organizational chart).\n",
    "Write a recursive function to traverse this structure and extract specific pieces of information, such as all the 'leaves' or elements at a certain depth."
   ]
  },
  {
   "cell_type": "code",
   "execution_count": 1,
   "id": "745e4bac",
   "metadata": {},
   "outputs": [],
   "source": [
    "# Example: Organizational Chart as a Nested Dictionary\n",
    "org_chart = {\n",
    "    'CEO': {\n",
    "        'CTO': {\n",
    "            'Dev Manager': {\n",
    "                'Developer1': {},\n",
    "                'Developer2': {}\n",
    "            },\n",
    "            'QA Manager': {\n",
    "                'QA1': {},\n",
    "                'QA2': {}\n",
    "            }\n",
    "        },\n",
    "        'CFO': {\n",
    "            'Accountant1': {},\n",
    "            'Accountant2': {}\n",
    "        }\n",
    "    }\n",
    "}\n",
    "\n",
    "\n"
   ]
  },
  {
   "cell_type": "code",
   "execution_count": 2,
   "id": "84256091",
   "metadata": {},
   "outputs": [],
   "source": [
    "\n",
    "# Recursive function to extract all leaves (positions with no subordinates)\n",
    "def get_leaves(tree):\n",
    "    leaves = []\n",
    "    for key, subtree in tree.items():\n",
    "        if subtree:\n",
    "            leaves.extend(get_leaves(subtree))\n",
    "        else:\n",
    "            leaves.append(key)\n",
    "    return leaves\n"
   ]
  },
  {
   "cell_type": "code",
   "execution_count": 3,
   "id": "d1a6f9e7",
   "metadata": {},
   "outputs": [
    {
     "name": "stdout",
     "output_type": "stream",
     "text": [
      "Leaves (individual contributors): ['Developer1', 'Developer2', 'QA1', 'QA2', 'Accountant1', 'Accountant2']\n"
     ]
    }
   ],
   "source": [
    "print(\"Leaves (individual contributors):\", get_leaves(org_chart))\n"
   ]
  },
  {
   "cell_type": "code",
   "execution_count": 4,
   "id": "8210672c",
   "metadata": {},
   "outputs": [],
   "source": [
    "\n",
    "# Recursive function to extract all elements at a certain depth\n",
    "def get_elements_at_depth(tree, depth):\n",
    "    if depth == 0:\n",
    "        return list(tree.keys())\n",
    "    elements = []\n",
    "    for subtree in tree.values():\n",
    "        if subtree:\n",
    "            elements.extend(get_elements_at_depth(subtree, depth - 1))\n",
    "    return elements"
   ]
  },
  {
   "cell_type": "code",
   "execution_count": 5,
   "id": "06ad9b04",
   "metadata": {},
   "outputs": [
    {
     "name": "stdout",
     "output_type": "stream",
     "text": [
      "Positions at depth 2: ['Dev Manager', 'QA Manager', 'Accountant1', 'Accountant2']\n"
     ]
    }
   ],
   "source": [
    "\n",
    "print(\"Positions at depth 2:\", get_elements_at_depth(org_chart, 2))"
   ]
  },
  {
   "cell_type": "code",
   "execution_count": null,
   "id": "1a73ab80",
   "metadata": {},
   "outputs": [],
   "source": []
  }
 ],
 "metadata": {
  "kernelspec": {
   "display_name": "Python 3",
   "language": "python",
   "name": "python3"
  },
  "language_info": {
   "codemirror_mode": {
    "name": "ipython",
    "version": 3
   },
   "file_extension": ".py",
   "mimetype": "text/x-python",
   "name": "python",
   "nbconvert_exporter": "python",
   "pygments_lexer": "ipython3",
   "version": "3.12.8"
  }
 },
 "nbformat": 4,
 "nbformat_minor": 5
}
