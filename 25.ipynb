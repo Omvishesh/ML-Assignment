{
 "cells": [
  {
   "cell_type": "markdown",
   "id": "3d785e7f",
   "metadata": {},
   "source": [
    "# Q25: Large Sparse Matrix & Efficient Storage\n",
    "\n",
    "Create a large, sparse matrix using NumPy (one that is mostly zeros).\n",
    "Implement a custom function to efficiently store, manage, and perform basic statistical calculations (e.g., finding the non-zero mean) on this sparse matrix, focusing on minimizing memory usage."
   ]
  },
  {
   "cell_type": "code",
   "execution_count": 4,
   "id": "66b9dcc9",
   "metadata": {},
   "outputs": [],
   "source": [
    "import numpy as np"
   ]
  },
  {
   "cell_type": "code",
   "execution_count": 5,
   "id": "34932328",
   "metadata": {},
   "outputs": [],
   "source": [
    "\n",
    "# Create a large sparse matrix (e.g., 1000x1000, 99.9% zeros)\n",
    "shape = (1000, 1000)\n",
    "density = 0.001  # 0.1% non-zero\n",
    "num_nonzero = int(np.prod(shape) * density)\n"
   ]
  },
  {
   "cell_type": "code",
   "execution_count": 6,
   "id": "a47c1a40",
   "metadata": {},
   "outputs": [],
   "source": [
    "\n",
    "# Randomly choose positions for non-zero elements\n",
    "rows = np.random.randint(0, shape[0], num_nonzero)\n",
    "cols = np.random.randint(0, shape[1], num_nonzero)\n",
    "values = np.random.randn(num_nonzero)\n"
   ]
  },
  {
   "cell_type": "code",
   "execution_count": 7,
   "id": "b5dc4f23",
   "metadata": {},
   "outputs": [],
   "source": [
    "\n",
    "# Efficient storage: dictionary of coordinates\n",
    "sparse_dict = {(r, c): v for r, c, v in zip(rows, cols, values)}\n",
    "\n",
    "def nonzero_mean(sparse_matrix_dict):\n",
    "    vals = list(sparse_matrix_dict.values())\n",
    "    if vals:\n",
    "        return np.mean(vals)\n",
    "    else:\n",
    "        return 0.0\n",
    "\n",
    "def nonzero_count(sparse_matrix_dict):\n",
    "    return len(sparse_matrix_dict)\n",
    "\n",
    "def nonzero_sum(sparse_matrix_dict):\n",
    "    return np.sum(list(sparse_matrix_dict.values()))\n"
   ]
  },
  {
   "cell_type": "code",
   "execution_count": 8,
   "id": "019ffd54",
   "metadata": {},
   "outputs": [
    {
     "name": "stdout",
     "output_type": "stream",
     "text": [
      "Non-zero count: 1000\n",
      "Non-zero mean: -0.0111\n",
      "Non-zero sum: -11.1315\n"
     ]
    }
   ],
   "source": [
    "\n",
    "print(f'Non-zero count: {nonzero_count(sparse_dict)}')\n",
    "print(f'Non-zero mean: {nonzero_mean(sparse_dict):.4f}')\n",
    "print(f'Non-zero sum: {nonzero_sum(sparse_dict):.4f}')"
   ]
  },
  {
   "cell_type": "code",
   "execution_count": null,
   "id": "86904950",
   "metadata": {},
   "outputs": [],
   "source": []
  },
  {
   "cell_type": "markdown",
   "id": "a1d1e044",
   "metadata": {},
   "source": [
    "## Why Dictionary Storage is Efficient for Sparse Matrices\n",
    "A dense NumPy array of size 1000x1000 uses memory for every element, even zeros. By storing only non-zero values in a dictionary with their coordinates as keys, we save memory and can quickly access, update, or compute statistics on non-zero elements. This is ideal for matrices with very few non-zero entries."
   ]
  },
  {
   "cell_type": "code",
   "execution_count": null,
   "id": "bc8c38dc",
   "metadata": {},
   "outputs": [],
   "source": [
    "# Function to get value at (row, col) in sparse matrix\n",
    "def get_value(sparse_matrix_dict, row, col):\n",
    "    return sparse_matrix_dict.get((row, col), 0.0)\n",
    "\n",
    "# Function to set/update value at (row, col) in sparse matrix\n",
    "def set_value(sparse_matrix_dict, row, col, value):\n",
    "    if value != 0.0:\n",
    "        sparse_matrix_dict[(row, col)] = value\n",
    "    elif (row, col) in sparse_matrix_dict:\n",
    "        del sparse_matrix_dict[(row, col)]\n",
    "\n",
    "# Example usage:\n",
    "print('Value at (0,0):', get_value(sparse_dict, 0, 0))\n",
    "set_value(sparse_dict, 0, 0, 5.5)\n",
    "print('Updated value at (0,0):', get_value(sparse_dict, 0, 0))"
   ]
  }
 ],
 "metadata": {
  "kernelspec": {
   "display_name": ".venv",
   "language": "python",
   "name": "python3"
  },
  "language_info": {
   "codemirror_mode": {
    "name": "ipython",
    "version": 3
   },
   "file_extension": ".py",
   "mimetype": "text/x-python",
   "name": "python",
   "nbconvert_exporter": "python",
   "pygments_lexer": "ipython3",
   "version": "3.13.7"
  }
 },
 "nbformat": 4,
 "nbformat_minor": 5
}
