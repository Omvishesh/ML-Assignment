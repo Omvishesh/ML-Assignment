{
 "cells": [
  {
   "cell_type": "markdown",
   "id": "25e92e3d",
   "metadata": {},
   "source": [
    "# Q26: Linear and Polynomial Regression on Housing Prices\n",
    "\n",
    "- Use a housing prices dataset.\n",
    "- Build regression models (Linear and Polynomial).\n",
    "- Evaluate models using R², RMSE, and MAE.\n",
    "- Discuss overfitting and apply regularization techniques if needed."
   ]
  },
  {
   "cell_type": "code",
   "execution_count": null,
   "id": "4d5bab88",
   "metadata": {},
   "outputs": [],
   "source": [
    "import numpy as np\n",
    "import pandas as pd\n",
    "from sklearn.datasets import fetch_california_housing\n",
    "from sklearn.model_selection import train_test_split\n",
    "from sklearn.linear_model import LinearRegression, Ridge\n",
    "from sklearn.preprocessing import PolynomialFeatures, StandardScaler\n",
    "from sklearn.metrics import mean_squared_error, mean_absolute_error, r2_score\n",
    "\n",
    "# Load housing dataset\n",
    "housing = fetch_california_housing()\n",
    "X = pd.DataFrame(housing.data, columns=housing.feature_names)\n",
    "y = housing.target\n",
    "\n",
    "# Use only one feature for polynomial regression simplicity\n",
    "X_feat = X[['MedInc']]\n",
    "\n",
    "# Split data\n",
    "X_train, X_test, y_train, y_test = train_test_split(X_feat, y, test_size=0.2, random_state=42)\n",
    "\n",
    "# Scale features\n",
    "scaler = StandardScaler()\n",
    "X_train_scaled = scaler.fit_transform(X_train)\n",
    "X_test_scaled = scaler.transform(X_test)\n",
    "\n",
    "# Linear Regression\n",
    "lin_reg = LinearRegression()\n",
    "lin_reg.fit(X_train_scaled, y_train)\n",
    "y_pred_lin = lin_reg.predict(X_test_scaled)\n",
    "\n",
    "# Polynomial Regression (degree=2)\n",
    "poly = PolynomialFeatures(degree=2)\n",
    "X_train_poly = poly.fit_transform(X_train_scaled)\n",
    "X_test_poly = poly.transform(X_test_scaled)\n",
    "poly_reg = LinearRegression()\n",
    "poly_reg.fit(X_train_poly, y_train)\n",
    "y_pred_poly = poly_reg.predict(X_test_poly)\n",
    "\n",
    "# Ridge Regression (regularization)\n",
    "ridge_reg = Ridge(alpha=1.0)\n",
    "ridge_reg.fit(X_train_poly, y_train)\n",
    "y_pred_ridge = ridge_reg.predict(X_test_poly)\n",
    "\n",
    "# Evaluation function\n",
    "def eval_model(y_true, y_pred):\n",
    "    r2 = r2_score(y_true, y_pred)\n",
    "    rmse = np.sqrt(mean_squared_error(y_true, y_pred))\n",
    "    mae = mean_absolute_error(y_true, y_pred)\n",
    "    return r2, rmse, mae\n",
    "\n",
    "print('Linear Regression:', eval_model(y_test, y_pred_lin))\n",
    "print('Polynomial Regression:', eval_model(y_test, y_pred_poly))\n",
    "print('Ridge Regression (Poly):', eval_model(y_test, y_pred_ridge))\n",
    "\n",
    "# Overfitting discussion\n",
    "print('Polynomial regression may overfit if degree is too high. Ridge regularization helps control overfitting.')"
   ]
  }
 ],
 "metadata": {
  "language_info": {
   "name": "python"
  }
 },
 "nbformat": 4,
 "nbformat_minor": 5
}
