{
 "cells": [
  {
   "cell_type": "markdown",
   "id": "25e92e3d",
   "metadata": {},
   "source": [
    "# Q26: Linear and Polynomial Regression on Housing Prices\n",
    "\n",
    "- Use a housing prices dataset.\n",
    "- Build regression models (Linear and Polynomial).\n",
    "- Evaluate models using R², RMSE, and MAE.\n",
    "- Discuss overfitting and apply regularization techniques if needed."
   ]
  },
  {
   "cell_type": "code",
   "execution_count": 2,
   "id": "4d5bab88",
   "metadata": {},
   "outputs": [],
   "source": [
    "import numpy as np\n",
    "import pandas as pd\n",
    "from sklearn.datasets import fetch_california_housing\n",
    "from sklearn.model_selection import train_test_split\n",
    "from sklearn.linear_model import LinearRegression, Ridge\n",
    "from sklearn.preprocessing import PolynomialFeatures, StandardScaler\n",
    "from sklearn.metrics import mean_squared_error, mean_absolute_error, r2_score"
   ]
  },
  {
   "cell_type": "code",
   "execution_count": 3,
   "id": "507a83c9",
   "metadata": {},
   "outputs": [],
   "source": [
    "# Load housing dataset\n",
    "housing = fetch_california_housing()\n",
    "X = pd.DataFrame(housing.data, columns=housing.feature_names)\n",
    "y = housing.target"
   ]
  },
  {
   "cell_type": "code",
   "execution_count": 4,
   "id": "d269c2bd",
   "metadata": {},
   "outputs": [],
   "source": [
    "# Use only one feature for polynomial regression simplicity\n",
    "X_feat = X[['MedInc']]"
   ]
  },
  {
   "cell_type": "code",
   "execution_count": 5,
   "id": "2a54102a",
   "metadata": {},
   "outputs": [],
   "source": [
    "# Split data\n",
    "X_train, X_test, y_train, y_test = train_test_split(X_feat, y, test_size=0.2, random_state=42)"
   ]
  },
  {
   "cell_type": "code",
   "execution_count": 6,
   "id": "bea44b23",
   "metadata": {},
   "outputs": [],
   "source": [
    "# Scale features\n",
    "scaler = StandardScaler()\n",
    "X_train_scaled = scaler.fit_transform(X_train)\n",
    "X_test_scaled = scaler.transform(X_test)"
   ]
  },
  {
   "cell_type": "code",
   "execution_count": 7,
   "id": "7edf935c",
   "metadata": {},
   "outputs": [],
   "source": [
    "# Linear Regression\n",
    "lin_reg = LinearRegression()\n",
    "lin_reg.fit(X_train_scaled, y_train)\n",
    "y_pred_lin = lin_reg.predict(X_test_scaled)"
   ]
  },
  {
   "cell_type": "code",
   "execution_count": 8,
   "id": "14bbfde9",
   "metadata": {},
   "outputs": [],
   "source": [
    "# Polynomial Regression (degree=2)\n",
    "poly = PolynomialFeatures(degree=2)\n",
    "X_train_poly = poly.fit_transform(X_train_scaled)\n",
    "X_test_poly = poly.transform(X_test_scaled)\n",
    "poly_reg = LinearRegression()\n",
    "poly_reg.fit(X_train_poly, y_train)\n",
    "y_pred_poly = poly_reg.predict(X_test_poly)"
   ]
  },
  {
   "cell_type": "code",
   "execution_count": 9,
   "id": "c4a13873",
   "metadata": {},
   "outputs": [],
   "source": [
    "# Ridge Regression (regularization)\n",
    "ridge_reg = Ridge(alpha=1.0)\n",
    "ridge_reg.fit(X_train_poly, y_train)\n",
    "y_pred_ridge = ridge_reg.predict(X_test_poly)"
   ]
  },
  {
   "cell_type": "code",
   "execution_count": 10,
   "id": "6c24f722",
   "metadata": {},
   "outputs": [],
   "source": [
    "# Evaluation function\n",
    "def eval_model(y_true, y_pred):\n",
    "    r2 = r2_score(y_true, y_pred)\n",
    "    rmse = np.sqrt(mean_squared_error(y_true, y_pred))\n",
    "    mae = mean_absolute_error(y_true, y_pred)\n",
    "    return r2, rmse, mae"
   ]
  },
  {
   "cell_type": "code",
   "execution_count": 11,
   "id": "eb12301b",
   "metadata": {},
   "outputs": [
    {
     "name": "stdout",
     "output_type": "stream",
     "text": [
      "Linear Regression: (0.45885918903846656, np.float64(0.8420901241414454), 0.629908653009376)\n",
      "Polynomial Regression: (0.46331772769346224, np.float64(0.8386138969115731), 0.6282915588701915)\n",
      "Ridge Regression (Poly): (0.46331882040077643, np.float64(0.8386130431848406), 0.6282932172536593)\n"
     ]
    }
   ],
   "source": [
    "print('Linear Regression:', eval_model(y_test, y_pred_lin))\n",
    "print('Polynomial Regression:', eval_model(y_test, y_pred_poly))\n",
    "print('Ridge Regression (Poly):', eval_model(y_test, y_pred_ridge))"
   ]
  },
  {
   "cell_type": "code",
   "execution_count": 12,
   "id": "3cdc52f6",
   "metadata": {},
   "outputs": [
    {
     "name": "stdout",
     "output_type": "stream",
     "text": [
      "Polynomial regression may overfit if degree is too high. Ridge regularization helps control overfitting.\n"
     ]
    }
   ],
   "source": [
    "# Overfitting discussion\n",
    "print('Polynomial regression may overfit if degree is too high. Ridge regularization helps control overfitting.')"
   ]
  }
 ],
 "metadata": {
  "kernelspec": {
   "display_name": ".venv",
   "language": "python",
   "name": "python3"
  },
  "language_info": {
   "codemirror_mode": {
    "name": "ipython",
    "version": 3
   },
   "file_extension": ".py",
   "mimetype": "text/x-python",
   "name": "python",
   "nbconvert_exporter": "python",
   "pygments_lexer": "ipython3",
   "version": "3.13.7"
  }
 },
 "nbformat": 4,
 "nbformat_minor": 5
}
