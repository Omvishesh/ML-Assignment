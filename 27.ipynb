{
 "cells": [
  {
   "cell_type": "markdown",
   "id": "4b18ae7c",
   "metadata": {},
   "source": [
    "# Q27: Regression and Classification Model Comparison\n",
    "\n",
    "- Select one regression and one classification problem (from separate datasets).\n",
    "- For each, implement two different models (e.g., Linear vs. Non-linear Regression; KNN vs. Logistic Regression).\n",
    "- Compare their performance (R² for regression, Accuracy for classification).\n",
    "- Analyze strengths and weaknesses of each model based on dataset characteristics."
   ]
  },
  {
   "cell_type": "code",
   "execution_count": 1,
   "id": "f0708391",
   "metadata": {},
   "outputs": [
    {
     "name": "stdout",
     "output_type": "stream",
     "text": [
      "Requirement already satisfied: numpy in ./.venv/lib/python3.13/site-packages (2.3.4)\n",
      "Requirement already satisfied: pandas in ./.venv/lib/python3.13/site-packages (2.3.3)\n",
      "Requirement already satisfied: scikit-learn in ./.venv/lib/python3.13/site-packages (1.7.2)\n",
      "Requirement already satisfied: python-dateutil>=2.8.2 in ./.venv/lib/python3.13/site-packages (from pandas) (2.9.0.post0)\n",
      "Requirement already satisfied: pytz>=2020.1 in ./.venv/lib/python3.13/site-packages (from pandas) (2025.2)\n",
      "Requirement already satisfied: tzdata>=2022.7 in ./.venv/lib/python3.13/site-packages (from pandas) (2025.2)\n",
      "Requirement already satisfied: scipy>=1.8.0 in ./.venv/lib/python3.13/site-packages (from scikit-learn) (1.16.2)\n",
      "Requirement already satisfied: joblib>=1.2.0 in ./.venv/lib/python3.13/site-packages (from scikit-learn) (1.5.2)\n",
      "Requirement already satisfied: threadpoolctl>=3.1.0 in ./.venv/lib/python3.13/site-packages (from scikit-learn) (3.6.0)\n",
      "Requirement already satisfied: six>=1.5 in ./.venv/lib/python3.13/site-packages (from python-dateutil>=2.8.2->pandas) (1.17.0)\n"
     ]
    }
   ],
   "source": [
    "# Install required packages (uncomment if needed)\n",
    "!pip install numpy pandas scikit-learn"
   ]
  },
  {
   "cell_type": "code",
   "execution_count": 2,
   "id": "22d7ab8f",
   "metadata": {},
   "outputs": [],
   "source": [
    "import numpy as np\n",
    "import pandas as pd\n",
    "from sklearn.datasets import fetch_california_housing, load_iris\n",
    "from sklearn.model_selection import train_test_split\n",
    "from sklearn.linear_model import LinearRegression\n",
    "from sklearn.preprocessing import PolynomialFeatures, StandardScaler\n",
    "from sklearn.metrics import r2_score, mean_squared_error, accuracy_score\n",
    "from sklearn.neighbors import KNeighborsClassifier\n",
    "from sklearn.linear_model import LogisticRegression"
   ]
  },
  {
   "cell_type": "code",
   "execution_count": 3,
   "id": "a8305412",
   "metadata": {},
   "outputs": [],
   "source": [
    "# --- Regression Problem: California Housing ---\n",
    "housing = fetch_california_housing()\n",
    "X_reg = pd.DataFrame(housing.data, columns=housing.feature_names)[['MedInc']]\n",
    "y_reg = housing.target\n",
    "X_train_reg, X_test_reg, y_train_reg, y_test_reg = train_test_split(X_reg, y_reg, test_size=0.2, random_state=42)\n",
    "scaler_reg = StandardScaler()\n",
    "X_train_reg_scaled = scaler_reg.fit_transform(X_train_reg)\n",
    "X_test_reg_scaled = scaler_reg.transform(X_test_reg)"
   ]
  },
  {
   "cell_type": "code",
   "execution_count": 4,
   "id": "155fd9d8",
   "metadata": {},
   "outputs": [],
   "source": [
    "# Linear Regression\n",
    "lin_reg = LinearRegression()\n",
    "lin_reg.fit(X_train_reg_scaled, y_train_reg)\n",
    "y_pred_lin = lin_reg.predict(X_test_reg_scaled)"
   ]
  },
  {
   "cell_type": "code",
   "execution_count": 5,
   "id": "93bbbcbc",
   "metadata": {},
   "outputs": [],
   "source": [
    "# Polynomial Regression (degree=2)\n",
    "poly = PolynomialFeatures(degree=2)\n",
    "X_train_poly = poly.fit_transform(X_train_reg_scaled)\n",
    "X_test_poly = poly.transform(X_test_reg_scaled)\n",
    "poly_reg = LinearRegression()\n",
    "poly_reg.fit(X_train_poly, y_train_reg)\n",
    "y_pred_poly = poly_reg.predict(X_test_poly)"
   ]
  },
  {
   "cell_type": "code",
   "execution_count": 6,
   "id": "4d51d4d1",
   "metadata": {},
   "outputs": [
    {
     "name": "stdout",
     "output_type": "stream",
     "text": [
      "Regression Results:\n",
      "Linear Regression R²: 0.45885918903846656\n",
      "Polynomial Regression R²: 0.46331772769346224\n"
     ]
    }
   ],
   "source": [
    "print('Regression Results:')\n",
    "print('Linear Regression R²:', r2_score(y_test_reg, y_pred_lin))\n",
    "print('Polynomial Regression R²:', r2_score(y_test_reg, y_pred_poly))"
   ]
  },
  {
   "cell_type": "code",
   "execution_count": 7,
   "id": "7c859031",
   "metadata": {},
   "outputs": [],
   "source": [
    "# --- Classification Problem: Iris Dataset ---\n",
    "iris = load_iris()\n",
    "X_clf = iris.data\n",
    "y_clf = iris.target\n",
    "X_train_clf, X_test_clf, y_train_clf, y_test_clf = train_test_split(X_clf, y_clf, test_size=0.2, random_state=42, stratify=y_clf)\n",
    "scaler_clf = StandardScaler()\n",
    "X_train_clf_scaled = scaler_clf.fit_transform(X_train_clf)\n",
    "X_test_clf_scaled = scaler_clf.transform(X_test_clf)\n"
   ]
  },
  {
   "cell_type": "code",
   "execution_count": 8,
   "id": "4643e24a",
   "metadata": {},
   "outputs": [],
   "source": [
    "# Logistic Regression\n",
    "log_reg = LogisticRegression(max_iter=200)\n",
    "log_reg.fit(X_train_clf_scaled, y_train_clf)\n",
    "y_pred_log = log_reg.predict(X_test_clf_scaled)\n"
   ]
  },
  {
   "cell_type": "code",
   "execution_count": 9,
   "id": "3c511aa0",
   "metadata": {},
   "outputs": [],
   "source": [
    "# KNN Classifier\n",
    "knn = KNeighborsClassifier(n_neighbors=5)\n",
    "knn.fit(X_train_clf_scaled, y_train_clf)\n",
    "y_pred_knn = knn.predict(X_test_clf_scaled)"
   ]
  },
  {
   "cell_type": "code",
   "execution_count": 10,
   "id": "7414f4a7",
   "metadata": {},
   "outputs": [
    {
     "name": "stdout",
     "output_type": "stream",
     "text": [
      "Classification Results:\n",
      "Logistic Regression Accuracy: 0.9333333333333333\n",
      "KNN Accuracy: 0.9333333333333333\n"
     ]
    }
   ],
   "source": [
    "print('Classification Results:')\n",
    "print('Logistic Regression Accuracy:', accuracy_score(y_test_clf, y_pred_log))\n",
    "print('KNN Accuracy:', accuracy_score(y_test_clf, y_pred_knn))"
   ]
  },
  {
   "cell_type": "code",
   "execution_count": 11,
   "id": "3148ea95",
   "metadata": {},
   "outputs": [
    {
     "name": "stdout",
     "output_type": "stream",
     "text": [
      "Linear regression is simple and interpretable, but may underfit non-linear data. Polynomial regression can fit non-linear patterns but may overfit. Logistic regression is robust for linearly separable classes, while KNN can capture complex boundaries but is sensitive to noise and scaling.\n"
     ]
    }
   ],
   "source": [
    "# Strengths and Weaknesses Discussion\n",
    "print('Linear regression is simple and interpretable, but may underfit non-linear data. Polynomial regression can fit non-linear patterns but may overfit. Logistic regression is robust for linearly separable classes, while KNN can capture complex boundaries but is sensitive to noise and scaling.')"
   ]
  },
  {
   "cell_type": "code",
   "execution_count": null,
   "id": "af559f6d",
   "metadata": {},
   "outputs": [],
   "source": []
  }
 ],
 "metadata": {
  "kernelspec": {
   "display_name": ".venv",
   "language": "python",
   "name": "python3"
  },
  "language_info": {
   "codemirror_mode": {
    "name": "ipython",
    "version": 3
   },
   "file_extension": ".py",
   "mimetype": "text/x-python",
   "name": "python",
   "nbconvert_exporter": "python",
   "pygments_lexer": "ipython3",
   "version": "3.13.7"
  }
 },
 "nbformat": 4,
 "nbformat_minor": 5
}
