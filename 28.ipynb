{
 "cells": [
  {
   "cell_type": "markdown",
   "id": "5c4b9ce1",
   "metadata": {},
   "source": [
    "# Q28: Combine Data from CSV, Excel, and JSON\n",
    "\n",
    "- Dynamically import and combine data from three different file types: CSV, Excel, and JSON.\n",
    "- Ensure the final combined dataset is properly indexed and cleaned using Pandas methods.\n",
    "- Calculate a simple descriptive statistic (e.g., mean) across all combined data."
   ]
  },
  {
   "cell_type": "code",
   "execution_count": 1,
   "id": "f6013085",
   "metadata": {},
   "outputs": [
    {
     "name": "stdout",
     "output_type": "stream",
     "text": [
      "Requirement already satisfied: pandas in ./.venv/lib/python3.13/site-packages (2.3.3)\n",
      "Requirement already satisfied: openpyxl in ./.venv/lib/python3.13/site-packages (3.1.5)\n",
      "Requirement already satisfied: numpy>=1.26.0 in ./.venv/lib/python3.13/site-packages (from pandas) (2.3.4)\n",
      "Requirement already satisfied: python-dateutil>=2.8.2 in ./.venv/lib/python3.13/site-packages (from pandas) (2.9.0.post0)\n",
      "Requirement already satisfied: pytz>=2020.1 in ./.venv/lib/python3.13/site-packages (from pandas) (2025.2)\n",
      "Requirement already satisfied: tzdata>=2022.7 in ./.venv/lib/python3.13/site-packages (from pandas) (2025.2)\n",
      "Requirement already satisfied: et-xmlfile in ./.venv/lib/python3.13/site-packages (from openpyxl) (2.0.0)\n",
      "Requirement already satisfied: six>=1.5 in ./.venv/lib/python3.13/site-packages (from python-dateutil>=2.8.2->pandas) (1.17.0)\n"
     ]
    }
   ],
   "source": [
    "# Install required packages (uncomment if needed)\n",
    "!pip install pandas openpyxl"
   ]
  },
  {
   "cell_type": "code",
   "execution_count": 1,
   "id": "9ff64fcf",
   "metadata": {},
   "outputs": [],
   "source": [
    "import pandas as pd"
   ]
  },
  {
   "cell_type": "code",
   "execution_count": 2,
   "id": "5d3b9589",
   "metadata": {},
   "outputs": [],
   "source": [
    "# Placeholder file paths\n",
    "csv_path = 'data1.csv'\n",
    "excel_path = 'data2.xlsx'\n",
    "json_path = 'data3.json'"
   ]
  },
  {
   "cell_type": "code",
   "execution_count": 3,
   "id": "a3de6789",
   "metadata": {},
   "outputs": [],
   "source": [
    "# Load each file type\n",
    "df_csv = pd.read_csv(csv_path)\n",
    "df_excel = pd.read_excel(excel_path)\n",
    "df_json = pd.read_json(json_path)"
   ]
  },
  {
   "cell_type": "code",
   "execution_count": 4,
   "id": "657afde2",
   "metadata": {},
   "outputs": [],
   "source": [
    "# Combine all dataframes\n",
    "df_combined = pd.concat([df_csv, df_excel, df_json], ignore_index=True)"
   ]
  },
  {
   "cell_type": "code",
   "execution_count": 5,
   "id": "df71e976",
   "metadata": {},
   "outputs": [],
   "source": [
    "# Clean and index\n",
    "df_combined = df_combined.drop_duplicates().reset_index(drop=True)\n",
    "df_combined = df_combined.fillna(df_combined.mean(numeric_only=True))"
   ]
  },
  {
   "cell_type": "code",
   "execution_count": 6,
   "id": "1517de23",
   "metadata": {},
   "outputs": [
    {
     "name": "stdout",
     "output_type": "stream",
     "text": [
      "Mean values across all combined data:\n",
      "A    48.486583\n",
      "B     0.494360\n",
      "dtype: float64\n"
     ]
    }
   ],
   "source": [
    "# Calculate a simple descriptive statistic (mean of all numeric columns)\n",
    "print('Mean values across all combined data:')\n",
    "print(df_combined.mean(numeric_only=True))"
   ]
  },
  {
   "cell_type": "code",
   "execution_count": null,
   "id": "5a5d07bb",
   "metadata": {},
   "outputs": [],
   "source": []
  }
 ],
 "metadata": {
  "kernelspec": {
   "display_name": ".venv",
   "language": "python",
   "name": "python3"
  },
  "language_info": {
   "codemirror_mode": {
    "name": "ipython",
    "version": 3
   },
   "file_extension": ".py",
   "mimetype": "text/x-python",
   "name": "python",
   "nbconvert_exporter": "python",
   "pygments_lexer": "ipython3",
   "version": "3.13.7"
  }
 },
 "nbformat": 4,
 "nbformat_minor": 5
}
