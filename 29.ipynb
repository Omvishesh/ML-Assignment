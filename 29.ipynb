{
 "cells": [
  {
   "cell_type": "markdown",
   "id": "68ae7986",
   "metadata": {},
   "source": [
    "# Q29: Optimize Memory Usage for Large Dataset\n",
    "\n",
    "- Work with a large CSV/JSON dataset (>100MB).\n",
    "- Optimize memory usage using appropriate data types, chunk loading, and indexing.\n",
    "- Document the performance improvements achieved."
   ]
  },
  {
   "cell_type": "code",
   "execution_count": 1,
   "id": "23043e9a",
   "metadata": {},
   "outputs": [],
   "source": [
    "import pandas as pd\n",
    "import numpy as np\n",
    "import os"
   ]
  },
  {
   "cell_type": "code",
   "execution_count": 2,
   "id": "c2d40baf",
   "metadata": {},
   "outputs": [],
   "source": [
    "# Simulate a large dataset (e.g., 1 million rows)\n",
    "n_rows = 4_000_000\n",
    "df_large = pd.DataFrame({\n",
    "    'id': np.arange(n_rows),\n",
    "    'category': np.random.choice(['A', 'B', 'C', 'D'], n_rows),\n",
    "    'value': np.random.rand(n_rows),\n",
    "    'flag': np.random.choice([0, 1], n_rows)\n",
    "})"
   ]
  },
  {
   "cell_type": "code",
   "execution_count": 3,
   "id": "487cf0ef",
   "metadata": {},
   "outputs": [],
   "source": [
    "df_large.to_csv('large_data.csv', index=False)"
   ]
  },
  {
   "cell_type": "code",
   "execution_count": 4,
   "id": "bc89f6e9",
   "metadata": {},
   "outputs": [
    {
     "name": "stdout",
     "output_type": "stream",
     "text": [
      "CSV file size (MB): 118.22431755065918\n"
     ]
    }
   ],
   "source": [
    "# Check file size\n",
    "print('CSV file size (MB):', os.path.getsize('large_data.csv') / (1024*1024))"
   ]
  },
  {
   "cell_type": "code",
   "execution_count": 5,
   "id": "48b13a78",
   "metadata": {},
   "outputs": [
    {
     "name": "stdout",
     "output_type": "stream",
     "text": [
      "Loaded with chunking: (4000000, 4)\n"
     ]
    }
   ],
   "source": [
    "# --- Chunk Loading ---\n",
    "chunk_iter = pd.read_csv('large_data.csv', chunksize=200_000)\n",
    "df_chunks = [chunk for chunk in chunk_iter]\n",
    "df_loaded = pd.concat(df_chunks, ignore_index=True)\n",
    "print('Loaded with chunking:', df_loaded.shape)"
   ]
  },
  {
   "cell_type": "code",
   "execution_count": 6,
   "id": "e60ba144",
   "metadata": {},
   "outputs": [
    {
     "name": "stdout",
     "output_type": "stream",
     "text": [
      "Optimized dtypes: id             int64\n",
      "category    category\n",
      "value        float64\n",
      "flag            bool\n",
      "dtype: object\n"
     ]
    }
   ],
   "source": [
    "# --- Data Type Optimization ---\n",
    "df_loaded['category'] = df_loaded['category'].astype('category')\n",
    "df_loaded['flag'] = df_loaded['flag'].astype('bool')\n",
    "print('Optimized dtypes:', df_loaded.dtypes)"
   ]
  },
  {
   "cell_type": "code",
   "execution_count": 7,
   "id": "a9293b1b",
   "metadata": {},
   "outputs": [
    {
     "name": "stdout",
     "output_type": "stream",
     "text": [
      "Indexed DataFrame head:\n",
      "   category     value   flag\n",
      "id                          \n",
      "0         D  0.825876  False\n",
      "1         D  0.813108   True\n",
      "2         C  0.722714  False\n",
      "3         C  0.160238  False\n",
      "4         A  0.688820   True\n"
     ]
    }
   ],
   "source": [
    "# --- Indexing ---\n",
    "df_loaded.set_index('id', inplace=True)\n",
    "print('Indexed DataFrame head:')\n",
    "print(df_loaded.head())"
   ]
  },
  {
   "cell_type": "code",
   "execution_count": 8,
   "id": "9c7eec31",
   "metadata": {},
   "outputs": [
    {
     "name": "stdout",
     "output_type": "stream",
     "text": [
      "Memory usage before optimization: 282.29 MB\n",
      "Memory usage after optimization: 68.66 MB\n",
      "Memory saved: 213.62281799316406 MB\n"
     ]
    }
   ],
   "source": [
    "# --- Memory Usage Comparison ---\n",
    "mem_before = df_large.memory_usage(deep=True).sum() / (1024*1024)\n",
    "mem_after = df_loaded.memory_usage(deep=True).sum() / (1024*1024)\n",
    "print(f'Memory usage before optimization: {mem_before:.2f} MB')\n",
    "print(f'Memory usage after optimization: {mem_after:.2f} MB')\n",
    "print('Memory saved:', mem_before - mem_after, 'MB')"
   ]
  },
  {
   "cell_type": "code",
   "execution_count": null,
   "id": "c91ea995",
   "metadata": {},
   "outputs": [],
   "source": []
  }
 ],
 "metadata": {
  "kernelspec": {
   "display_name": ".venv",
   "language": "python",
   "name": "python3"
  },
  "language_info": {
   "codemirror_mode": {
    "name": "ipython",
    "version": 3
   },
   "file_extension": ".py",
   "mimetype": "text/x-python",
   "name": "python",
   "nbconvert_exporter": "python",
   "pygments_lexer": "ipython3",
   "version": "3.13.7"
  }
 },
 "nbformat": 4,
 "nbformat_minor": 5
}
