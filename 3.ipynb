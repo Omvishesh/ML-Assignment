{
 "cells": [
  {
   "cell_type": "markdown",
   "id": "6741a078",
   "metadata": {},
   "source": [
    "### Use NumPy arrays to analyze weather data (temperature, humidity, rainfall). Perform operations  such  as  reshaping,  broadcasting,  and  calculating  statistical  measures (mean, median, variance, standard deviation). Compare results with built-in Python functions. "
   ]
  },
  {
   "cell_type": "code",
   "execution_count": 5,
   "id": "3877b2e2",
   "metadata": {},
   "outputs": [],
   "source": [
    "import numpy as np\n",
    "import pandas as pd\n"
   ]
  },
  {
   "cell_type": "code",
   "execution_count": 6,
   "id": "79571715",
   "metadata": {},
   "outputs": [
    {
     "name": "stdout",
     "output_type": "stream",
     "text": [
      "Shape of weather data: (365, 3)\n",
      "First 5 records:\n",
      " [[32.48357077 51.17979193  6.00249807]\n",
      " [29.30867849 88.16112697  7.98775174]\n",
      " [33.23844269 40.60772373 26.87272059]\n",
      " [37.61514928 88.49394134 17.92562019]\n",
      " [28.82923313 42.1579956   6.71537749]]\n"
     ]
    }
   ],
   "source": [
    "# Generate random synthetic weather data for 365 days (1 year)\n",
    "np.random.seed(42)\n",
    "\n",
    "temperature = np.random.normal(loc=30, scale=5, size=365)   # mean 30°C, std 5\n",
    "humidity = np.random.uniform(low=40, high=90, size=365)     # 40–90% range\n",
    "rainfall = np.random.gamma(shape=2, scale=5, size=365)      # skewed rainfall data\n",
    "\n",
    "# Stack into a single 2D array: rows=days, cols=features\n",
    "weather_data = np.column_stack((temperature, humidity, rainfall))\n",
    "\n",
    "print(\"Shape of weather data:\", weather_data.shape)\n",
    "print(\"First 5 records:\\n\", weather_data[:5])\n",
    "\n"
   ]
  },
  {
   "cell_type": "code",
   "execution_count": 8,
   "id": "38f240f0",
   "metadata": {},
   "outputs": [
    {
     "name": "stdout",
     "output_type": "stream",
     "text": [
      "Shape after reshaping (years, days, features): (3, 365, 3)\n",
      "Shape after broadcasting new feature: (365, 4)\n"
     ]
    }
   ],
   "source": [
    "# Create data for 3 years by repeating the single year data\n",
    "weather_3yrs = np.tile(weather_data, (3, 1))  # Repeat the data 3 times\n",
    "weather_3yrs = weather_3yrs.reshape(3, 365, 3)  # Now reshape to (years, days, features)\n",
    "print(\"Shape after reshaping (years, days, features):\", weather_3yrs.shape)\n",
    "\n",
    "# Broadcasting example — convert Celsius to Fahrenheit for temperature\n",
    "temp_celsius = weather_data[:, 0]\n",
    "temp_fahrenheit = temp_celsius * 9/5 + 32\n",
    "\n",
    "# Add it back as a new column\n",
    "weather_extended = np.column_stack((weather_data, temp_fahrenheit))\n",
    "print(\"Shape after broadcasting new feature:\", weather_extended.shape)"
   ]
  },
  {
   "cell_type": "code",
   "execution_count": 9,
   "id": "989f50f4",
   "metadata": {},
   "outputs": [
    {
     "name": "stdout",
     "output_type": "stream",
     "text": [
      "📊 NumPy Statistical Measures\n",
      "Mean: [30.04973201 65.07275711 10.69317116]\n",
      "Median: [30.29104359 65.17086354  9.22145435]\n",
      "Variance: [ 22.40846    208.82772437  50.90008059]\n",
      "Std Dev: [ 4.73375749 14.45087279  7.13442924]\n"
     ]
    }
   ],
   "source": [
    "# Mean, Median, Variance, Standard Deviation using NumPy\n",
    "mean_vals = np.mean(weather_data, axis=0)\n",
    "median_vals = np.median(weather_data, axis=0)\n",
    "variance_vals = np.var(weather_data, axis=0)\n",
    "std_vals = np.std(weather_data, axis=0)\n",
    "\n",
    "print(\"📊 NumPy Statistical Measures\")\n",
    "print(f\"Mean: {mean_vals}\")\n",
    "print(f\"Median: {median_vals}\")\n",
    "print(f\"Variance: {variance_vals}\")\n",
    "print(f\"Std Dev: {std_vals}\")\n"
   ]
  },
  {
   "cell_type": "code",
   "execution_count": 10,
   "id": "74afdcd0",
   "metadata": {},
   "outputs": [
    {
     "name": "stdout",
     "output_type": "stream",
     "text": [
      "🧮 Built-in Python Function Results\n",
      "Mean: [30.049732011060275, 65.07275711180507, 10.69317115534729]\n",
      "Median: [30.29104359223, 65.17086354274284, 9.221454353404845]\n",
      "Variance: [22.40846000200091, 208.82772436899708, 50.90008059329661]\n",
      "Std Dev: [4.73375749294373, 14.450872789177721, 7.134429240892127]\n"
     ]
    }
   ],
   "source": [
    "# Convert columns to Python lists\n",
    "temp_list = temperature.tolist()\n",
    "humidity_list = humidity.tolist()\n",
    "rainfall_list = rainfall.tolist()\n",
    "\n",
    "# Calculate using built-in Python functions\n",
    "mean_builtin = [sum(x)/len(x) for x in [temp_list, humidity_list, rainfall_list]]\n",
    "median_builtin = [sorted(x)[len(x)//2] for x in [temp_list, humidity_list, rainfall_list]]\n",
    "variance_builtin = [\n",
    "    sum((i - np.mean(x))**2 for i in x) / len(x)\n",
    "    for x in [temp_list, humidity_list, rainfall_list]\n",
    "]\n",
    "std_builtin = [v**0.5 for v in variance_builtin]\n",
    "\n",
    "print(\"🧮 Built-in Python Function Results\")\n",
    "print(f\"Mean: {mean_builtin}\")\n",
    "print(f\"Median: {median_builtin}\")\n",
    "print(f\"Variance: {variance_builtin}\")\n",
    "print(f\"Std Dev: {std_builtin}\")\n"
   ]
  }
 ],
 "metadata": {
  "kernelspec": {
   "display_name": "Python 3",
   "language": "python",
   "name": "python3"
  },
  "language_info": {
   "codemirror_mode": {
    "name": "ipython",
    "version": 3
   },
   "file_extension": ".py",
   "mimetype": "text/x-python",
   "name": "python",
   "nbconvert_exporter": "python",
   "pygments_lexer": "ipython3",
   "version": "3.11.4"
  }
 },
 "nbformat": 4,
 "nbformat_minor": 5
}
