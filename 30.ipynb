{
 "cells": [
  {
   "cell_type": "markdown",
   "id": "443ae91f",
   "metadata": {},
   "source": [
    "# Q30: k-Fold Cross-Validation and Hyperparameter Tuning\n",
    "\n",
    "- Implement k-fold cross-validation on a dataset.\n",
    "- Use GridSearchCV or RandomizedSearchCV to tune hyperparameters for models like SVM or Decision Trees.\n",
    "- Document improvements."
   ]
  },
  {
   "cell_type": "code",
   "execution_count": 1,
   "id": "584e3670",
   "metadata": {},
   "outputs": [],
   "source": [
    "import numpy as np\n",
    "import pandas as pd\n",
    "from sklearn.datasets import load_iris\n",
    "from sklearn.model_selection import train_test_split, GridSearchCV, cross_val_score\n",
    "from sklearn.svm import SVC\n",
    "from sklearn.tree import DecisionTreeClassifier\n",
    "from sklearn.preprocessing import StandardScaler"
   ]
  },
  {
   "cell_type": "code",
   "execution_count": 2,
   "id": "adc26421",
   "metadata": {},
   "outputs": [],
   "source": [
    "# Load dataset\n",
    "iris = load_iris()\n",
    "X = iris.data\n",
    "y = iris.target"
   ]
  },
  {
   "cell_type": "code",
   "execution_count": 3,
   "id": "1fc00cb4",
   "metadata": {},
   "outputs": [],
   "source": [
    "# Scale features\n",
    "scaler = StandardScaler()\n",
    "X_scaled = scaler.fit_transform(X)"
   ]
  },
  {
   "cell_type": "code",
   "execution_count": 4,
   "id": "f676d4de",
   "metadata": {},
   "outputs": [
    {
     "name": "stdout",
     "output_type": "stream",
     "text": [
      "SVM mean CV accuracy (default params): 0.9666666666666666\n"
     ]
    }
   ],
   "source": [
    "# --- k-Fold Cross-Validation (SVM) ---\n",
    "svm = SVC()\n",
    "cv_scores = cross_val_score(svm, X_scaled, y, cv=5)\n",
    "print('SVM mean CV accuracy (default params):', np.mean(cv_scores))"
   ]
  },
  {
   "cell_type": "code",
   "execution_count": 5,
   "id": "02e1ce84",
   "metadata": {},
   "outputs": [
    {
     "name": "stdout",
     "output_type": "stream",
     "text": [
      "Best SVM params: {'C': 10, 'gamma': 'scale', 'kernel': 'rbf'}\n",
      "Best SVM CV accuracy: 0.9733333333333334\n"
     ]
    }
   ],
   "source": [
    "# --- GridSearchCV for SVM ---\n",
    "param_grid = {\n",
    "    'C': [0.1, 1, 10],\n",
    "    'kernel': ['linear', 'rbf'],\n",
    "    'gamma': ['scale', 'auto']\n",
    "}\n",
    "grid = GridSearchCV(SVC(), param_grid, cv=5)\n",
    "grid.fit(X_scaled, y)\n",
    "print('Best SVM params:', grid.best_params_)\n",
    "print('Best SVM CV accuracy:', grid.best_score_)"
   ]
  },
  {
   "cell_type": "code",
   "execution_count": 6,
   "id": "308f18f6",
   "metadata": {},
   "outputs": [],
   "source": [
    "# --- Decision Tree with GridSearchCV ---\n",
    "param_grid_tree = {\n",
    "    'max_depth': [2, 4, 6, None],\n",
    "    'min_samples_split': [2, 5, 10]\n",
    "}"
   ]
  },
  {
   "cell_type": "code",
   "execution_count": 7,
   "id": "b59c20e9",
   "metadata": {},
   "outputs": [
    {
     "name": "stdout",
     "output_type": "stream",
     "text": [
      "Best Decision Tree params: {'max_depth': 4, 'min_samples_split': 2}\n",
      "Best Decision Tree CV accuracy: 0.9666666666666668\n"
     ]
    }
   ],
   "source": [
    "grid_tree = GridSearchCV(DecisionTreeClassifier(), param_grid_tree, cv=5)\n",
    "grid_tree.fit(X_scaled, y)\n",
    "print('Best Decision Tree params:', grid_tree.best_params_)\n",
    "print('Best Decision Tree CV accuracy:', grid_tree.best_score_)"
   ]
  },
  {
   "cell_type": "code",
   "execution_count": 8,
   "id": "a2956f85",
   "metadata": {},
   "outputs": [
    {
     "name": "stdout",
     "output_type": "stream",
     "text": [
      "GridSearchCV improves model selection by finding optimal hyperparameters, leading to higher cross-validation accuracy compared to default settings.\n"
     ]
    }
   ],
   "source": [
    "# --- Document Improvements ---\n",
    "print('GridSearchCV improves model selection by finding optimal hyperparameters, leading to higher cross-validation accuracy compared to default settings.')"
   ]
  },
  {
   "cell_type": "code",
   "execution_count": null,
   "id": "5a302ec9",
   "metadata": {},
   "outputs": [],
   "source": []
  }
 ],
 "metadata": {
  "kernelspec": {
   "display_name": ".venv",
   "language": "python",
   "name": "python3"
  },
  "language_info": {
   "codemirror_mode": {
    "name": "ipython",
    "version": 3
   },
   "file_extension": ".py",
   "mimetype": "text/x-python",
   "name": "python",
   "nbconvert_exporter": "python",
   "pygments_lexer": "ipython3",
   "version": "3.13.7"
  }
 },
 "nbformat": 4,
 "nbformat_minor": 5
}
