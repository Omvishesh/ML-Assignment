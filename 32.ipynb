{
 "cells": [
  {
   "cell_type": "markdown",
   "id": "7932419e",
   "metadata": {},
   "source": [
    "# Q32: Handling Imbalanced Dataset\n",
    "\n",
    "- Work with an imbalanced dataset (e.g., fraud detection, disease detection).\n",
    "- Apply oversampling, undersampling, or SMOTE.\n",
    "- Evaluate how balancing affects classifier performance."
   ]
  },
  {
   "cell_type": "code",
   "execution_count": 1,
   "id": "35513f4a",
   "metadata": {},
   "outputs": [],
   "source": [
    "import numpy as np\n",
    "import pandas as pd\n",
    "from sklearn.datasets import make_classification\n",
    "from sklearn.model_selection import train_test_split\n",
    "from sklearn.linear_model import LogisticRegression\n",
    "from sklearn.metrics import classification_report, accuracy_score\n",
    "from sklearn.datasets import make_classification\n",
    "from imblearn.over_sampling import SMOTE"
   ]
  },
  {
   "cell_type": "code",
   "execution_count": 2,
   "id": "cd8f5f3a",
   "metadata": {},
   "outputs": [],
   "source": [
    "# Simulate an imbalanced dataset\n",
    "X, y = make_classification(n_samples=2000, n_features=10, n_informative=5, n_redundant=2, n_clusters_per_class=1, weights=[0.95, 0.05], random_state=42)\n",
    "\n",
    "X_train, X_test, y_train, y_test = train_test_split(X, y, test_size=0.3, random_state=42, stratify=y)"
   ]
  },
  {
   "cell_type": "code",
   "execution_count": 3,
   "id": "70b29420",
   "metadata": {},
   "outputs": [
    {
     "name": "stdout",
     "output_type": "stream",
     "text": [
      "Performance on imbalanced data:\n",
      "              precision    recall  f1-score   support\n",
      "\n",
      "           0       0.99      1.00      0.99       568\n",
      "           1       0.93      0.88      0.90        32\n",
      "\n",
      "    accuracy                           0.99       600\n",
      "   macro avg       0.96      0.94      0.95       600\n",
      "weighted avg       0.99      0.99      0.99       600\n",
      "\n"
     ]
    }
   ],
   "source": [
    "# Train classifier on imbalanced data\n",
    "clf = LogisticRegression(max_iter=200)\n",
    "clf.fit(X_train, y_train)\n",
    "y_pred = clf.predict(X_test)\n",
    "print('Performance on imbalanced data:')\n",
    "print(classification_report(y_test, y_pred))\n"
   ]
  },
  {
   "cell_type": "code",
   "execution_count": 4,
   "id": "0d471691",
   "metadata": {},
   "outputs": [
    {
     "name": "stdout",
     "output_type": "stream",
     "text": [
      "Performance after SMOTE balancing:\n",
      "              precision    recall  f1-score   support\n",
      "\n",
      "           0       0.99      0.96      0.98       568\n",
      "           1       0.58      0.88      0.70        32\n",
      "\n",
      "    accuracy                           0.96       600\n",
      "   macro avg       0.79      0.92      0.84       600\n",
      "weighted avg       0.97      0.96      0.96       600\n",
      "\n"
     ]
    }
   ],
   "source": [
    "\n",
    "\n",
    "\n",
    "\n",
    "# Apply SMOTE for balancing\n",
    "smote = SMOTE(random_state=42)\n",
    "X_train_bal, y_train_bal = smote.fit_resample(X_train, y_train)\n",
    "\n",
    "# Train classifier on balanced data\n",
    "clf_bal = LogisticRegression(max_iter=200)\n",
    "clf_bal.fit(X_train_bal, y_train_bal)\n",
    "y_pred_bal = clf_bal.predict(X_test)\n",
    "print('Performance after SMOTE balancing:')\n",
    "print(classification_report(y_test, y_pred_bal))"
   ]
  }
 ],
 "metadata": {
  "kernelspec": {
   "display_name": ".venv",
   "language": "python",
   "name": "python3"
  },
  "language_info": {
   "codemirror_mode": {
    "name": "ipython",
    "version": 3
   },
   "file_extension": ".py",
   "mimetype": "text/x-python",
   "name": "python",
   "nbconvert_exporter": "python",
   "pygments_lexer": "ipython3",
   "version": "3.13.7"
  }
 },
 "nbformat": 4,
 "nbformat_minor": 5
}
