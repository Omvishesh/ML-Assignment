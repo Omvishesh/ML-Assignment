{
 "cells": [
  {
   "cell_type": "markdown",
   "id": "65e91215",
   "metadata": {},
   "source": [
    "# Q33: Predictive Model for Practical Scenario\n",
    "\n",
    "- Build a predictive model for a practical scenario (student performance, loan approval, disease prediction).\n",
    "- Emphasize data wrangling, preprocessing, feature selection, and result interpretation."
   ]
  },
  {
   "cell_type": "code",
   "execution_count": 1,
   "id": "eb170729",
   "metadata": {},
   "outputs": [],
   "source": [
    "import numpy as np\n",
    "import pandas as pd\n",
    "from sklearn.datasets import make_classification\n",
    "from sklearn.model_selection import train_test_split\n",
    "from sklearn.preprocessing import StandardScaler\n",
    "from sklearn.feature_selection import SelectKBest, f_classif\n",
    "from sklearn.linear_model import LogisticRegression\n",
    "from sklearn.metrics import classification_report"
   ]
  },
  {
   "cell_type": "code",
   "execution_count": 2,
   "id": "8d919074",
   "metadata": {},
   "outputs": [],
   "source": [
    "# Simulate a practical dataset (e.g., disease prediction)\n",
    "X, y = make_classification(n_samples=1000, n_features=12, n_informative=8, n_redundant=2, n_classes=2, random_state=42)\n",
    "df = pd.DataFrame(X, columns=[f'feature_{i}' for i in range(12)])\n",
    "df['target'] = y"
   ]
  },
  {
   "cell_type": "code",
   "execution_count": 3,
   "id": "ba5094cd",
   "metadata": {},
   "outputs": [],
   "source": [
    "# Data wrangling: introduce some missing values\n",
    "for col in df.columns[:5]:\n",
    "    df.loc[df.sample(frac=0.05, random_state=42).index, col] = np.nan"
   ]
  },
  {
   "cell_type": "code",
   "execution_count": 4,
   "id": "fb174359",
   "metadata": {},
   "outputs": [],
   "source": [
    "# Preprocessing: fill missing values and scale features\n",
    "df.fillna(df.mean(), inplace=True)\n",
    "X = df.drop('target', axis=1)\n",
    "y = df['target']\n",
    "scaler = StandardScaler()\n",
    "X_scaled = scaler.fit_transform(X)"
   ]
  },
  {
   "cell_type": "code",
   "execution_count": 5,
   "id": "9baa1350",
   "metadata": {},
   "outputs": [
    {
     "name": "stdout",
     "output_type": "stream",
     "text": [
      "Selected features: ['feature_1', 'feature_3', 'feature_4', 'feature_9', 'feature_10', 'feature_11']\n"
     ]
    }
   ],
   "source": [
    "# Feature selection\n",
    "selector = SelectKBest(score_func=f_classif, k=6)\n",
    "X_selected = selector.fit_transform(X_scaled, y)\n",
    "selected_features = X.columns[selector.get_support()]\n",
    "print('Selected features:', list(selected_features))"
   ]
  },
  {
   "cell_type": "code",
   "execution_count": 6,
   "id": "42d0a9d9",
   "metadata": {},
   "outputs": [],
   "source": [
    "# Train predictive model\n",
    "X_train, X_test, y_train, y_test = train_test_split(X_selected, y, test_size=0.2, random_state=42)\n",
    "model = LogisticRegression(max_iter=200)\n",
    "model.fit(X_train, y_train)\n",
    "y_pred = model.predict(X_test)"
   ]
  },
  {
   "cell_type": "code",
   "execution_count": 7,
   "id": "7a461300",
   "metadata": {},
   "outputs": [
    {
     "name": "stdout",
     "output_type": "stream",
     "text": [
      "Classification Report:\n",
      "              precision    recall  f1-score   support\n",
      "\n",
      "           0       0.67      0.59      0.63       110\n",
      "           1       0.56      0.64      0.60        90\n",
      "\n",
      "    accuracy                           0.61       200\n",
      "   macro avg       0.62      0.62      0.61       200\n",
      "weighted avg       0.62      0.61      0.62       200\n",
      "\n"
     ]
    }
   ],
   "source": [
    "# Result interpretation\n",
    "print('Classification Report:')\n",
    "print(classification_report(y_test, y_pred))"
   ]
  }
 ],
 "metadata": {
  "kernelspec": {
   "display_name": ".venv",
   "language": "python",
   "name": "python3"
  },
  "language_info": {
   "codemirror_mode": {
    "name": "ipython",
    "version": 3
   },
   "file_extension": ".py",
   "mimetype": "text/x-python",
   "name": "python",
   "nbconvert_exporter": "python",
   "pygments_lexer": "ipython3",
   "version": "3.13.7"
  }
 },
 "nbformat": 4,
 "nbformat_minor": 5
}
