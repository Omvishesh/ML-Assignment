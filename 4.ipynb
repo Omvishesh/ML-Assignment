{
 "cells": [
  {
   "cell_type": "markdown",
   "id": "60cadd76",
   "metadata": {},
   "source": [
    "### Generate  two  large,  random  NumPy  matrices  (at  least  100x100)  representing  two different  data  measurements.  Write  functions  to  perform  element-wise  operations  , calculate  the  statistical  functions  (mean,  median,  variance,  standard  deviation)  for each  matrix  ,  and  perform  a  matrix  multiplication  (if  dimensions  allow)  or  use broadcasting  to  combine  them.  Document  your  code  with  explanations  of  the  array creation and reshaping process. "
   ]
  },
  {
   "cell_type": "code",
   "execution_count": 1,
   "id": "04435f47",
   "metadata": {},
   "outputs": [],
   "source": [
    "# Import essential libraries\n",
    "import numpy as np\n"
   ]
  },
  {
   "cell_type": "code",
   "execution_count": 2,
   "id": "80812134",
   "metadata": {},
   "outputs": [
    {
     "name": "stdout",
     "output_type": "stream",
     "text": [
      "Matrix A shape: (100, 100)\n",
      "Matrix B shape: (100, 100)\n"
     ]
    }
   ],
   "source": [
    "# Generate two large random matrices (100x100)\n",
    "# Matrix A: normally distributed data (mean=50, std=10)\n",
    "# Matrix B: uniformly distributed data between 10 and 100\n",
    "\n",
    "np.random.seed(42)  # for reproducibility\n",
    "\n",
    "A = np.random.normal(loc=50, scale=10, size=(100, 100))\n",
    "B = np.random.uniform(low=10, high=100, size=(100, 100))\n",
    "\n",
    "print(\"Matrix A shape:\", A.shape)\n",
    "print(\"Matrix B shape:\", B.shape)\n"
   ]
  },
  {
   "cell_type": "code",
   "execution_count": 3,
   "id": "64b4e2b8",
   "metadata": {},
   "outputs": [
    {
     "name": "stdout",
     "output_type": "stream",
     "text": [
      "✅ Element-wise operations completed.\n",
      "Example (first 3 elements of first row):\n",
      "Sum: [93.88010714 67.88908449 72.93956447]\n",
      "Difference: [16.05417592 29.34562949 40.01420629]\n",
      "Product: [2138.93448789  936.94045564  929.76084004]\n",
      "Division: [1.41256624 2.52272958 3.43060112]\n"
     ]
    }
   ],
   "source": [
    "# Perform element-wise operations between A and B\n",
    "sum_matrix = A + B\n",
    "diff_matrix = A - B\n",
    "prod_matrix = A * B\n",
    "div_matrix = A / (B + 1e-8)  # add small epsilon to avoid division by zero\n",
    "\n",
    "print(\"✅ Element-wise operations completed.\")\n",
    "print(\"Example (first 3 elements of first row):\")\n",
    "print(\"Sum:\", sum_matrix[0, :3])\n",
    "print(\"Difference:\", diff_matrix[0, :3])\n",
    "print(\"Product:\", prod_matrix[0, :3])\n",
    "print(\"Division:\", div_matrix[0, :3])\n"
   ]
  },
  {
   "cell_type": "code",
   "execution_count": 4,
   "id": "2f4250d7",
   "metadata": {},
   "outputs": [
    {
     "name": "stdout",
     "output_type": "stream",
     "text": [
      "📊 Statistics for Matrix A:\n",
      "Mean: 49.979\n",
      "Median: 49.974\n",
      "Variance: 100.684\n",
      "Standard Deviation: 10.034\n",
      "----------------------------------------\n",
      "📊 Statistics for Matrix B:\n",
      "Mean: 55.642\n",
      "Median: 56.014\n",
      "Variance: 678.823\n",
      "Standard Deviation: 26.054\n",
      "----------------------------------------\n"
     ]
    }
   ],
   "source": [
    "# Define a helper function to calculate statistics for a given matrix\n",
    "def matrix_stats(matrix, name):\n",
    "    mean_val = np.mean(matrix)\n",
    "    median_val = np.median(matrix)\n",
    "    var_val = np.var(matrix)\n",
    "    std_val = np.std(matrix)\n",
    "    \n",
    "    print(f\"📊 Statistics for {name}:\")\n",
    "    print(f\"Mean: {mean_val:.3f}\")\n",
    "    print(f\"Median: {median_val:.3f}\")\n",
    "    print(f\"Variance: {var_val:.3f}\")\n",
    "    print(f\"Standard Deviation: {std_val:.3f}\")\n",
    "    print(\"-\" * 40)\n",
    "\n",
    "# Calculate for both matrices\n",
    "matrix_stats(A, \"Matrix A\")\n",
    "matrix_stats(B, \"Matrix B\")\n"
   ]
  },
  {
   "cell_type": "code",
   "execution_count": 5,
   "id": "4e1db0d0",
   "metadata": {},
   "outputs": [
    {
     "name": "stdout",
     "output_type": "stream",
     "text": [
      "✅ Matrix multiplication completed. Shape: (100, 100)\n"
     ]
    }
   ],
   "source": [
    "# Matrix multiplication (dot product) — only valid if inner dimensions match\n",
    "# For (100x100) × (100x100), multiplication is valid\n",
    "\n",
    "C = np.dot(A, B)\n",
    "print(\"✅ Matrix multiplication completed. Shape:\", C.shape)\n",
    "\n",
    "# If dimensions didn’t allow multiplication, we could use broadcasting like this:\n",
    "# broadcast_sum = A + B[:100, :1]  # example: broadcasting one column across all columns\n"
   ]
  },
  {
   "cell_type": "code",
   "execution_count": null,
   "id": "8062f11b",
   "metadata": {},
   "outputs": [],
   "source": []
  }
 ],
 "metadata": {
  "kernelspec": {
   "display_name": "Python 3",
   "language": "python",
   "name": "python3"
  },
  "language_info": {
   "codemirror_mode": {
    "name": "ipython",
    "version": 3
   },
   "file_extension": ".py",
   "mimetype": "text/x-python",
   "name": "python",
   "nbconvert_exporter": "python",
   "pygments_lexer": "ipython3",
   "version": "3.11.4"
  }
 },
 "nbformat": 4,
 "nbformat_minor": 5
}
