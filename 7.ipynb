{
 "cells": [
  {
   "cell_type": "markdown",
   "id": "2517d69c",
   "metadata": {},
   "source": [
    "### Obtain a dataset of sales records. Use Pandas to load, filter records based on a condition (e.g., sales greater than $500) , and use the groupby() method to aggregate total sales by region or product category. Create a descriptive report that includes describe() and info() outputs and a summary of the aggregated statistics"
   ]
  },
  {
   "cell_type": "code",
   "execution_count": 1,
   "id": "71b910cf",
   "metadata": {},
   "outputs": [],
   "source": [
    "# Import necessary libraries\n",
    "import pandas as pd\n",
    "import numpy as np\n",
    "import matplotlib.pyplot as plt\n",
    "import seaborn as sns\n"
   ]
  },
  {
   "cell_type": "code",
   "execution_count": 2,
   "id": "c3b5c4ea",
   "metadata": {},
   "outputs": [
    {
     "data": {
      "application/vnd.microsoft.datawrangler.viewer.v0+json": {
       "columns": [
        {
         "name": "index",
         "rawType": "int64",
         "type": "integer"
        },
        {
         "name": "Order_ID",
         "rawType": "int32",
         "type": "integer"
        },
        {
         "name": "Region",
         "rawType": "object",
         "type": "string"
        },
        {
         "name": "Category",
         "rawType": "object",
         "type": "string"
        },
        {
         "name": "Sales",
         "rawType": "int32",
         "type": "integer"
        },
        {
         "name": "Quantity",
         "rawType": "int32",
         "type": "integer"
        }
       ],
       "ref": "8b3268c5-b994-4e3b-9fe6-a8accd66e085",
       "rows": [
        [
         "0",
         "1",
         "East",
         "Electronics",
         "976",
         "8"
        ],
        [
         "1",
         "2",
         "West",
         "Electronics",
         "1091",
         "9"
        ],
        [
         "2",
         "3",
         "North",
         "Clothing",
         "983",
         "7"
        ],
        [
         "3",
         "4",
         "East",
         "Furniture",
         "1473",
         "1"
        ],
        [
         "4",
         "5",
         "East",
         "Furniture",
         "146",
         "3"
        ]
       ],
       "shape": {
        "columns": 5,
        "rows": 5
       }
      },
      "text/html": [
       "<div>\n",
       "<style scoped>\n",
       "    .dataframe tbody tr th:only-of-type {\n",
       "        vertical-align: middle;\n",
       "    }\n",
       "\n",
       "    .dataframe tbody tr th {\n",
       "        vertical-align: top;\n",
       "    }\n",
       "\n",
       "    .dataframe thead th {\n",
       "        text-align: right;\n",
       "    }\n",
       "</style>\n",
       "<table border=\"1\" class=\"dataframe\">\n",
       "  <thead>\n",
       "    <tr style=\"text-align: right;\">\n",
       "      <th></th>\n",
       "      <th>Order_ID</th>\n",
       "      <th>Region</th>\n",
       "      <th>Category</th>\n",
       "      <th>Sales</th>\n",
       "      <th>Quantity</th>\n",
       "    </tr>\n",
       "  </thead>\n",
       "  <tbody>\n",
       "    <tr>\n",
       "      <th>0</th>\n",
       "      <td>1</td>\n",
       "      <td>East</td>\n",
       "      <td>Electronics</td>\n",
       "      <td>976</td>\n",
       "      <td>8</td>\n",
       "    </tr>\n",
       "    <tr>\n",
       "      <th>1</th>\n",
       "      <td>2</td>\n",
       "      <td>West</td>\n",
       "      <td>Electronics</td>\n",
       "      <td>1091</td>\n",
       "      <td>9</td>\n",
       "    </tr>\n",
       "    <tr>\n",
       "      <th>2</th>\n",
       "      <td>3</td>\n",
       "      <td>North</td>\n",
       "      <td>Clothing</td>\n",
       "      <td>983</td>\n",
       "      <td>7</td>\n",
       "    </tr>\n",
       "    <tr>\n",
       "      <th>3</th>\n",
       "      <td>4</td>\n",
       "      <td>East</td>\n",
       "      <td>Furniture</td>\n",
       "      <td>1473</td>\n",
       "      <td>1</td>\n",
       "    </tr>\n",
       "    <tr>\n",
       "      <th>4</th>\n",
       "      <td>5</td>\n",
       "      <td>East</td>\n",
       "      <td>Furniture</td>\n",
       "      <td>146</td>\n",
       "      <td>3</td>\n",
       "    </tr>\n",
       "  </tbody>\n",
       "</table>\n",
       "</div>"
      ],
      "text/plain": [
       "   Order_ID Region     Category  Sales  Quantity\n",
       "0         1   East  Electronics    976         8\n",
       "1         2   West  Electronics   1091         9\n",
       "2         3  North     Clothing    983         7\n",
       "3         4   East    Furniture   1473         1\n",
       "4         5   East    Furniture    146         3"
      ]
     },
     "execution_count": 2,
     "metadata": {},
     "output_type": "execute_result"
    }
   ],
   "source": [
    "# Generate a synthetic sales dataset\n",
    "np.random.seed(42)\n",
    "regions = ['North', 'South', 'East', 'West']\n",
    "categories = ['Electronics', 'Furniture', 'Clothing', 'Groceries']\n",
    "\n",
    "data = {\n",
    "    'Order_ID': np.arange(1, 301),\n",
    "    'Region': np.random.choice(regions, 300),\n",
    "    'Category': np.random.choice(categories, 300),\n",
    "    'Sales': np.random.randint(100, 2000, 300),\n",
    "    'Quantity': np.random.randint(1, 10, 300)\n",
    "}\n",
    "\n",
    "sales_df = pd.DataFrame(data)\n",
    "sales_df.head()\n"
   ]
  },
  {
   "cell_type": "code",
   "execution_count": 3,
   "id": "3cf145fd",
   "metadata": {},
   "outputs": [
    {
     "name": "stdout",
     "output_type": "stream",
     "text": [
      "Dataset Info:\n",
      "========================================\n",
      "<class 'pandas.core.frame.DataFrame'>\n",
      "RangeIndex: 300 entries, 0 to 299\n",
      "Data columns (total 5 columns):\n",
      " #   Column    Non-Null Count  Dtype \n",
      "---  ------    --------------  ----- \n",
      " 0   Order_ID  300 non-null    int32 \n",
      " 1   Region    300 non-null    object\n",
      " 2   Category  300 non-null    object\n",
      " 3   Sales     300 non-null    int32 \n",
      " 4   Quantity  300 non-null    int32 \n",
      "dtypes: int32(3), object(2)\n",
      "memory usage: 8.3+ KB\n",
      "\n",
      "Descriptive Statistics:\n",
      "========================================\n"
     ]
    },
    {
     "data": {
      "application/vnd.microsoft.datawrangler.viewer.v0+json": {
       "columns": [
        {
         "name": "index",
         "rawType": "object",
         "type": "string"
        },
        {
         "name": "Order_ID",
         "rawType": "float64",
         "type": "float"
        },
        {
         "name": "Sales",
         "rawType": "float64",
         "type": "float"
        },
        {
         "name": "Quantity",
         "rawType": "float64",
         "type": "float"
        }
       ],
       "ref": "b4edcbb1-3525-4e2a-842c-276a45cccf24",
       "rows": [
        [
         "count",
         "300.0",
         "300.0",
         "300.0"
        ],
        [
         "mean",
         "150.5",
         "1104.3433333333332",
         "4.8533333333333335"
        ],
        [
         "std",
         "86.74675786448736",
         "512.9488348227748",
         "2.597623474371187"
        ],
        [
         "min",
         "1.0",
         "111.0",
         "1.0"
        ],
        [
         "25%",
         "75.75",
         "733.0",
         "3.0"
        ],
        [
         "50%",
         "150.5",
         "1135.5",
         "5.0"
        ],
        [
         "75%",
         "225.25",
         "1516.25",
         "7.0"
        ],
        [
         "max",
         "300.0",
         "1992.0",
         "9.0"
        ]
       ],
       "shape": {
        "columns": 3,
        "rows": 8
       }
      },
      "text/html": [
       "<div>\n",
       "<style scoped>\n",
       "    .dataframe tbody tr th:only-of-type {\n",
       "        vertical-align: middle;\n",
       "    }\n",
       "\n",
       "    .dataframe tbody tr th {\n",
       "        vertical-align: top;\n",
       "    }\n",
       "\n",
       "    .dataframe thead th {\n",
       "        text-align: right;\n",
       "    }\n",
       "</style>\n",
       "<table border=\"1\" class=\"dataframe\">\n",
       "  <thead>\n",
       "    <tr style=\"text-align: right;\">\n",
       "      <th></th>\n",
       "      <th>Order_ID</th>\n",
       "      <th>Sales</th>\n",
       "      <th>Quantity</th>\n",
       "    </tr>\n",
       "  </thead>\n",
       "  <tbody>\n",
       "    <tr>\n",
       "      <th>count</th>\n",
       "      <td>300.000000</td>\n",
       "      <td>300.000000</td>\n",
       "      <td>300.000000</td>\n",
       "    </tr>\n",
       "    <tr>\n",
       "      <th>mean</th>\n",
       "      <td>150.500000</td>\n",
       "      <td>1104.343333</td>\n",
       "      <td>4.853333</td>\n",
       "    </tr>\n",
       "    <tr>\n",
       "      <th>std</th>\n",
       "      <td>86.746758</td>\n",
       "      <td>512.948835</td>\n",
       "      <td>2.597623</td>\n",
       "    </tr>\n",
       "    <tr>\n",
       "      <th>min</th>\n",
       "      <td>1.000000</td>\n",
       "      <td>111.000000</td>\n",
       "      <td>1.000000</td>\n",
       "    </tr>\n",
       "    <tr>\n",
       "      <th>25%</th>\n",
       "      <td>75.750000</td>\n",
       "      <td>733.000000</td>\n",
       "      <td>3.000000</td>\n",
       "    </tr>\n",
       "    <tr>\n",
       "      <th>50%</th>\n",
       "      <td>150.500000</td>\n",
       "      <td>1135.500000</td>\n",
       "      <td>5.000000</td>\n",
       "    </tr>\n",
       "    <tr>\n",
       "      <th>75%</th>\n",
       "      <td>225.250000</td>\n",
       "      <td>1516.250000</td>\n",
       "      <td>7.000000</td>\n",
       "    </tr>\n",
       "    <tr>\n",
       "      <th>max</th>\n",
       "      <td>300.000000</td>\n",
       "      <td>1992.000000</td>\n",
       "      <td>9.000000</td>\n",
       "    </tr>\n",
       "  </tbody>\n",
       "</table>\n",
       "</div>"
      ],
      "text/plain": [
       "         Order_ID        Sales    Quantity\n",
       "count  300.000000   300.000000  300.000000\n",
       "mean   150.500000  1104.343333    4.853333\n",
       "std     86.746758   512.948835    2.597623\n",
       "min      1.000000   111.000000    1.000000\n",
       "25%     75.750000   733.000000    3.000000\n",
       "50%    150.500000  1135.500000    5.000000\n",
       "75%    225.250000  1516.250000    7.000000\n",
       "max    300.000000  1992.000000    9.000000"
      ]
     },
     "metadata": {},
     "output_type": "display_data"
    }
   ],
   "source": [
    "# Display dataset information\n",
    "print(\"Dataset Info:\")\n",
    "print(\"=\"*40)\n",
    "sales_df.info()\n",
    "\n",
    "print(\"\\nDescriptive Statistics:\")\n",
    "print(\"=\"*40)\n",
    "display(sales_df.describe())\n"
   ]
  },
  {
   "cell_type": "code",
   "execution_count": 4,
   "id": "130272bd",
   "metadata": {},
   "outputs": [
    {
     "name": "stdout",
     "output_type": "stream",
     "text": [
      "Total Records with Sales > 500: 254\n"
     ]
    },
    {
     "data": {
      "application/vnd.microsoft.datawrangler.viewer.v0+json": {
       "columns": [
        {
         "name": "index",
         "rawType": "int64",
         "type": "integer"
        },
        {
         "name": "Order_ID",
         "rawType": "int32",
         "type": "integer"
        },
        {
         "name": "Region",
         "rawType": "object",
         "type": "string"
        },
        {
         "name": "Category",
         "rawType": "object",
         "type": "string"
        },
        {
         "name": "Sales",
         "rawType": "int32",
         "type": "integer"
        },
        {
         "name": "Quantity",
         "rawType": "int32",
         "type": "integer"
        }
       ],
       "ref": "47e77945-2393-452f-8d8d-3a90f108c6e2",
       "rows": [
        [
         "0",
         "1",
         "East",
         "Electronics",
         "976",
         "8"
        ],
        [
         "1",
         "2",
         "West",
         "Electronics",
         "1091",
         "9"
        ],
        [
         "2",
         "3",
         "North",
         "Clothing",
         "983",
         "7"
        ],
        [
         "3",
         "4",
         "East",
         "Furniture",
         "1473",
         "1"
        ],
        [
         "5",
         "6",
         "West",
         "Electronics",
         "966",
         "9"
        ]
       ],
       "shape": {
        "columns": 5,
        "rows": 5
       }
      },
      "text/html": [
       "<div>\n",
       "<style scoped>\n",
       "    .dataframe tbody tr th:only-of-type {\n",
       "        vertical-align: middle;\n",
       "    }\n",
       "\n",
       "    .dataframe tbody tr th {\n",
       "        vertical-align: top;\n",
       "    }\n",
       "\n",
       "    .dataframe thead th {\n",
       "        text-align: right;\n",
       "    }\n",
       "</style>\n",
       "<table border=\"1\" class=\"dataframe\">\n",
       "  <thead>\n",
       "    <tr style=\"text-align: right;\">\n",
       "      <th></th>\n",
       "      <th>Order_ID</th>\n",
       "      <th>Region</th>\n",
       "      <th>Category</th>\n",
       "      <th>Sales</th>\n",
       "      <th>Quantity</th>\n",
       "    </tr>\n",
       "  </thead>\n",
       "  <tbody>\n",
       "    <tr>\n",
       "      <th>0</th>\n",
       "      <td>1</td>\n",
       "      <td>East</td>\n",
       "      <td>Electronics</td>\n",
       "      <td>976</td>\n",
       "      <td>8</td>\n",
       "    </tr>\n",
       "    <tr>\n",
       "      <th>1</th>\n",
       "      <td>2</td>\n",
       "      <td>West</td>\n",
       "      <td>Electronics</td>\n",
       "      <td>1091</td>\n",
       "      <td>9</td>\n",
       "    </tr>\n",
       "    <tr>\n",
       "      <th>2</th>\n",
       "      <td>3</td>\n",
       "      <td>North</td>\n",
       "      <td>Clothing</td>\n",
       "      <td>983</td>\n",
       "      <td>7</td>\n",
       "    </tr>\n",
       "    <tr>\n",
       "      <th>3</th>\n",
       "      <td>4</td>\n",
       "      <td>East</td>\n",
       "      <td>Furniture</td>\n",
       "      <td>1473</td>\n",
       "      <td>1</td>\n",
       "    </tr>\n",
       "    <tr>\n",
       "      <th>5</th>\n",
       "      <td>6</td>\n",
       "      <td>West</td>\n",
       "      <td>Electronics</td>\n",
       "      <td>966</td>\n",
       "      <td>9</td>\n",
       "    </tr>\n",
       "  </tbody>\n",
       "</table>\n",
       "</div>"
      ],
      "text/plain": [
       "   Order_ID Region     Category  Sales  Quantity\n",
       "0         1   East  Electronics    976         8\n",
       "1         2   West  Electronics   1091         9\n",
       "2         3  North     Clothing    983         7\n",
       "3         4   East    Furniture   1473         1\n",
       "5         6   West  Electronics    966         9"
      ]
     },
     "execution_count": 4,
     "metadata": {},
     "output_type": "execute_result"
    }
   ],
   "source": [
    "# Filter records where sales are greater than $500\n",
    "high_sales_df = sales_df[sales_df['Sales'] > 500]\n",
    "print(f\"Total Records with Sales > 500: {len(high_sales_df)}\")\n",
    "\n",
    "# Display first few records\n",
    "high_sales_df.head()\n"
   ]
  },
  {
   "cell_type": "code",
   "execution_count": 5,
   "id": "cad8350b",
   "metadata": {},
   "outputs": [
    {
     "data": {
      "application/vnd.microsoft.datawrangler.viewer.v0+json": {
       "columns": [
        {
         "name": "index",
         "rawType": "int64",
         "type": "integer"
        },
        {
         "name": "Region",
         "rawType": "object",
         "type": "string"
        },
        {
         "name": "Category",
         "rawType": "object",
         "type": "string"
        },
        {
         "name": "Total_Sales",
         "rawType": "int32",
         "type": "integer"
        },
        {
         "name": "Average_Sales",
         "rawType": "float64",
         "type": "float"
        },
        {
         "name": "Total_Orders",
         "rawType": "int64",
         "type": "integer"
        }
       ],
       "ref": "64103c4d-4c22-48d7-9921-7ebf76af33e3",
       "rows": [
        [
         "0",
         "East",
         "Clothing",
         "16875",
         "1205.357142857143",
         "14"
        ],
        [
         "1",
         "East",
         "Electronics",
         "12675",
         "1267.5",
         "10"
        ],
        [
         "2",
         "East",
         "Furniture",
         "24290",
         "1349.4444444444443",
         "18"
        ],
        [
         "3",
         "East",
         "Groceries",
         "27328",
         "1438.3157894736842",
         "19"
        ],
        [
         "4",
         "North",
         "Clothing",
         "17353",
         "1239.5",
         "14"
        ],
        [
         "5",
         "North",
         "Electronics",
         "24431",
         "1285.842105263158",
         "19"
        ],
        [
         "6",
         "North",
         "Furniture",
         "20130",
         "1258.125",
         "16"
        ],
        [
         "7",
         "North",
         "Groceries",
         "22007",
         "1375.4375",
         "16"
        ],
        [
         "8",
         "South",
         "Clothing",
         "17065",
         "1218.9285714285713",
         "14"
        ],
        [
         "9",
         "South",
         "Electronics",
         "7817",
         "1302.8333333333333",
         "6"
        ],
        [
         "10",
         "South",
         "Furniture",
         "14851",
         "1237.5833333333333",
         "12"
        ],
        [
         "11",
         "South",
         "Groceries",
         "24828",
         "1079.4782608695652",
         "23"
        ],
        [
         "12",
         "West",
         "Clothing",
         "20636",
         "1086.1052631578948",
         "19"
        ],
        [
         "13",
         "West",
         "Electronics",
         "22895",
         "1144.75",
         "20"
        ],
        [
         "14",
         "West",
         "Furniture",
         "20004",
         "1333.6",
         "15"
        ],
        [
         "15",
         "West",
         "Groceries",
         "24438",
         "1286.2105263157894",
         "19"
        ]
       ],
       "shape": {
        "columns": 5,
        "rows": 16
       }
      },
      "text/html": [
       "<div>\n",
       "<style scoped>\n",
       "    .dataframe tbody tr th:only-of-type {\n",
       "        vertical-align: middle;\n",
       "    }\n",
       "\n",
       "    .dataframe tbody tr th {\n",
       "        vertical-align: top;\n",
       "    }\n",
       "\n",
       "    .dataframe thead th {\n",
       "        text-align: right;\n",
       "    }\n",
       "</style>\n",
       "<table border=\"1\" class=\"dataframe\">\n",
       "  <thead>\n",
       "    <tr style=\"text-align: right;\">\n",
       "      <th></th>\n",
       "      <th>Region</th>\n",
       "      <th>Category</th>\n",
       "      <th>Total_Sales</th>\n",
       "      <th>Average_Sales</th>\n",
       "      <th>Total_Orders</th>\n",
       "    </tr>\n",
       "  </thead>\n",
       "  <tbody>\n",
       "    <tr>\n",
       "      <th>0</th>\n",
       "      <td>East</td>\n",
       "      <td>Clothing</td>\n",
       "      <td>16875</td>\n",
       "      <td>1205.357143</td>\n",
       "      <td>14</td>\n",
       "    </tr>\n",
       "    <tr>\n",
       "      <th>1</th>\n",
       "      <td>East</td>\n",
       "      <td>Electronics</td>\n",
       "      <td>12675</td>\n",
       "      <td>1267.500000</td>\n",
       "      <td>10</td>\n",
       "    </tr>\n",
       "    <tr>\n",
       "      <th>2</th>\n",
       "      <td>East</td>\n",
       "      <td>Furniture</td>\n",
       "      <td>24290</td>\n",
       "      <td>1349.444444</td>\n",
       "      <td>18</td>\n",
       "    </tr>\n",
       "    <tr>\n",
       "      <th>3</th>\n",
       "      <td>East</td>\n",
       "      <td>Groceries</td>\n",
       "      <td>27328</td>\n",
       "      <td>1438.315789</td>\n",
       "      <td>19</td>\n",
       "    </tr>\n",
       "    <tr>\n",
       "      <th>4</th>\n",
       "      <td>North</td>\n",
       "      <td>Clothing</td>\n",
       "      <td>17353</td>\n",
       "      <td>1239.500000</td>\n",
       "      <td>14</td>\n",
       "    </tr>\n",
       "    <tr>\n",
       "      <th>5</th>\n",
       "      <td>North</td>\n",
       "      <td>Electronics</td>\n",
       "      <td>24431</td>\n",
       "      <td>1285.842105</td>\n",
       "      <td>19</td>\n",
       "    </tr>\n",
       "    <tr>\n",
       "      <th>6</th>\n",
       "      <td>North</td>\n",
       "      <td>Furniture</td>\n",
       "      <td>20130</td>\n",
       "      <td>1258.125000</td>\n",
       "      <td>16</td>\n",
       "    </tr>\n",
       "    <tr>\n",
       "      <th>7</th>\n",
       "      <td>North</td>\n",
       "      <td>Groceries</td>\n",
       "      <td>22007</td>\n",
       "      <td>1375.437500</td>\n",
       "      <td>16</td>\n",
       "    </tr>\n",
       "    <tr>\n",
       "      <th>8</th>\n",
       "      <td>South</td>\n",
       "      <td>Clothing</td>\n",
       "      <td>17065</td>\n",
       "      <td>1218.928571</td>\n",
       "      <td>14</td>\n",
       "    </tr>\n",
       "    <tr>\n",
       "      <th>9</th>\n",
       "      <td>South</td>\n",
       "      <td>Electronics</td>\n",
       "      <td>7817</td>\n",
       "      <td>1302.833333</td>\n",
       "      <td>6</td>\n",
       "    </tr>\n",
       "    <tr>\n",
       "      <th>10</th>\n",
       "      <td>South</td>\n",
       "      <td>Furniture</td>\n",
       "      <td>14851</td>\n",
       "      <td>1237.583333</td>\n",
       "      <td>12</td>\n",
       "    </tr>\n",
       "    <tr>\n",
       "      <th>11</th>\n",
       "      <td>South</td>\n",
       "      <td>Groceries</td>\n",
       "      <td>24828</td>\n",
       "      <td>1079.478261</td>\n",
       "      <td>23</td>\n",
       "    </tr>\n",
       "    <tr>\n",
       "      <th>12</th>\n",
       "      <td>West</td>\n",
       "      <td>Clothing</td>\n",
       "      <td>20636</td>\n",
       "      <td>1086.105263</td>\n",
       "      <td>19</td>\n",
       "    </tr>\n",
       "    <tr>\n",
       "      <th>13</th>\n",
       "      <td>West</td>\n",
       "      <td>Electronics</td>\n",
       "      <td>22895</td>\n",
       "      <td>1144.750000</td>\n",
       "      <td>20</td>\n",
       "    </tr>\n",
       "    <tr>\n",
       "      <th>14</th>\n",
       "      <td>West</td>\n",
       "      <td>Furniture</td>\n",
       "      <td>20004</td>\n",
       "      <td>1333.600000</td>\n",
       "      <td>15</td>\n",
       "    </tr>\n",
       "    <tr>\n",
       "      <th>15</th>\n",
       "      <td>West</td>\n",
       "      <td>Groceries</td>\n",
       "      <td>24438</td>\n",
       "      <td>1286.210526</td>\n",
       "      <td>19</td>\n",
       "    </tr>\n",
       "  </tbody>\n",
       "</table>\n",
       "</div>"
      ],
      "text/plain": [
       "   Region     Category  Total_Sales  Average_Sales  Total_Orders\n",
       "0    East     Clothing        16875    1205.357143            14\n",
       "1    East  Electronics        12675    1267.500000            10\n",
       "2    East    Furniture        24290    1349.444444            18\n",
       "3    East    Groceries        27328    1438.315789            19\n",
       "4   North     Clothing        17353    1239.500000            14\n",
       "5   North  Electronics        24431    1285.842105            19\n",
       "6   North    Furniture        20130    1258.125000            16\n",
       "7   North    Groceries        22007    1375.437500            16\n",
       "8   South     Clothing        17065    1218.928571            14\n",
       "9   South  Electronics         7817    1302.833333             6\n",
       "10  South    Furniture        14851    1237.583333            12\n",
       "11  South    Groceries        24828    1079.478261            23\n",
       "12   West     Clothing        20636    1086.105263            19\n",
       "13   West  Electronics        22895    1144.750000            20\n",
       "14   West    Furniture        20004    1333.600000            15\n",
       "15   West    Groceries        24438    1286.210526            19"
      ]
     },
     "execution_count": 5,
     "metadata": {},
     "output_type": "execute_result"
    }
   ],
   "source": [
    "# Group by Region and Category, aggregate total and mean sales\n",
    "aggregated_sales = (\n",
    "    high_sales_df.groupby(['Region', 'Category'])\n",
    "    .agg(\n",
    "        Total_Sales=('Sales', 'sum'),\n",
    "        Average_Sales=('Sales', 'mean'),\n",
    "        Total_Orders=('Order_ID', 'count')\n",
    "    )\n",
    "    .reset_index()\n",
    ")\n",
    "\n",
    "aggregated_sales\n"
   ]
  },
  {
   "cell_type": "code",
   "execution_count": 6,
   "id": "62d2f5c1",
   "metadata": {},
   "outputs": [
    {
     "data": {
      "image/png": "[encoded data removed]",
      "text/plain": [
       "<Figure size 800x500 with 1 Axes>"
      ]
     },
     "metadata": {},
     "output_type": "display_data"
    },
    {
     "data": {
      "image/png": "[encoded data removed]",
      "text/plain": [
       "<Figure size 800x500 with 1 Axes>"
      ]
     },
     "metadata": {},
     "output_type": "display_data"
    }
   ],
   "source": [
    "# Visualization: Total Sales by Region\n",
    "plt.figure(figsize=(8,5))\n",
    "sns.barplot(x='Region', y='Total_Sales', data=aggregated_sales, estimator=sum)\n",
    "plt.title(\"Total Sales by Region\")\n",
    "plt.xlabel(\"Region\")\n",
    "plt.ylabel(\"Total Sales ($)\")\n",
    "plt.show()\n",
    "\n",
    "# Visualization: Total Sales by Product Category\n",
    "plt.figure(figsize=(8,5))\n",
    "sns.barplot(x='Category', y='Total_Sales', data=aggregated_sales, estimator=sum)\n",
    "plt.title(\"Total Sales by Category\")\n",
    "plt.xlabel(\"Product Category\")\n",
    "plt.ylabel(\"Total Sales ($)\")\n",
    "plt.show()\n"
   ]
  },
  {
   "cell_type": "code",
   "execution_count": 7,
   "id": "05368016",
   "metadata": {},
   "outputs": [
    {
     "name": "stdout",
     "output_type": "stream",
     "text": [
      "=== DESCRIPTIVE REPORT ===\n",
      "\n",
      "1️⃣ Dataset Overview:\n",
      "Total Records: 300\n",
      "Records with Sales > 500: 254\n",
      "\n",
      "2️⃣ Aggregated Sales Summary:\n"
     ]
    },
    {
     "data": {
      "application/vnd.microsoft.datawrangler.viewer.v0+json": {
       "columns": [
        {
         "name": "index",
         "rawType": "object",
         "type": "string"
        },
        {
         "name": "Total_Sales",
         "rawType": "float64",
         "type": "float"
        },
        {
         "name": "Average_Sales",
         "rawType": "float64",
         "type": "float"
        },
        {
         "name": "Total_Orders",
         "rawType": "float64",
         "type": "float"
        }
       ],
       "ref": "5c7451d7-11b6-4a46-a8de-5b39cda28374",
       "rows": [
        [
         "count",
         "16.0",
         "16.0",
         "16.0"
        ],
        [
         "mean",
         "19851.4375",
         "1256.8132044048073",
         "15.875"
        ],
        [
         "std",
         "5171.717960455694",
         "97.75202731229876",
         "4.2406760467328"
        ],
        [
         "min",
         "7817.0",
         "1079.4782608695652",
         "6.0"
        ],
        [
         "25%",
         "17017.5",
         "1215.5357142857142",
         "14.0"
        ],
        [
         "50%",
         "20383.0",
         "1262.8125",
         "16.0"
        ],
        [
         "75%",
         "24325.25",
         "1310.5249999999999",
         "19.0"
        ],
        [
         "max",
         "27328.0",
         "1438.3157894736842",
         "23.0"
        ]
       ],
       "shape": {
        "columns": 3,
        "rows": 8
       }
      },
      "text/html": [
       "<div>\n",
       "<style scoped>\n",
       "    .dataframe tbody tr th:only-of-type {\n",
       "        vertical-align: middle;\n",
       "    }\n",
       "\n",
       "    .dataframe tbody tr th {\n",
       "        vertical-align: top;\n",
       "    }\n",
       "\n",
       "    .dataframe thead th {\n",
       "        text-align: right;\n",
       "    }\n",
       "</style>\n",
       "<table border=\"1\" class=\"dataframe\">\n",
       "  <thead>\n",
       "    <tr style=\"text-align: right;\">\n",
       "      <th></th>\n",
       "      <th>Total_Sales</th>\n",
       "      <th>Average_Sales</th>\n",
       "      <th>Total_Orders</th>\n",
       "    </tr>\n",
       "  </thead>\n",
       "  <tbody>\n",
       "    <tr>\n",
       "      <th>count</th>\n",
       "      <td>16.00000</td>\n",
       "      <td>16.000000</td>\n",
       "      <td>16.000000</td>\n",
       "    </tr>\n",
       "    <tr>\n",
       "      <th>mean</th>\n",
       "      <td>19851.43750</td>\n",
       "      <td>1256.813204</td>\n",
       "      <td>15.875000</td>\n",
       "    </tr>\n",
       "    <tr>\n",
       "      <th>std</th>\n",
       "      <td>5171.71796</td>\n",
       "      <td>97.752027</td>\n",
       "      <td>4.240676</td>\n",
       "    </tr>\n",
       "    <tr>\n",
       "      <th>min</th>\n",
       "      <td>7817.00000</td>\n",
       "      <td>1079.478261</td>\n",
       "      <td>6.000000</td>\n",
       "    </tr>\n",
       "    <tr>\n",
       "      <th>25%</th>\n",
       "      <td>17017.50000</td>\n",
       "      <td>1215.535714</td>\n",
       "      <td>14.000000</td>\n",
       "    </tr>\n",
       "    <tr>\n",
       "      <th>50%</th>\n",
       "      <td>20383.00000</td>\n",
       "      <td>1262.812500</td>\n",
       "      <td>16.000000</td>\n",
       "    </tr>\n",
       "    <tr>\n",
       "      <th>75%</th>\n",
       "      <td>24325.25000</td>\n",
       "      <td>1310.525000</td>\n",
       "      <td>19.000000</td>\n",
       "    </tr>\n",
       "    <tr>\n",
       "      <th>max</th>\n",
       "      <td>27328.00000</td>\n",
       "      <td>1438.315789</td>\n",
       "      <td>23.000000</td>\n",
       "    </tr>\n",
       "  </tbody>\n",
       "</table>\n",
       "</div>"
      ],
      "text/plain": [
       "       Total_Sales  Average_Sales  Total_Orders\n",
       "count     16.00000      16.000000     16.000000\n",
       "mean   19851.43750    1256.813204     15.875000\n",
       "std     5171.71796      97.752027      4.240676\n",
       "min     7817.00000    1079.478261      6.000000\n",
       "25%    17017.50000    1215.535714     14.000000\n",
       "50%    20383.00000    1262.812500     16.000000\n",
       "75%    24325.25000    1310.525000     19.000000\n",
       "max    27328.00000    1438.315789     23.000000"
      ]
     },
     "metadata": {},
     "output_type": "display_data"
    },
    {
     "name": "stdout",
     "output_type": "stream",
     "text": [
      "\n",
      "3️⃣ Insights:\n",
      "- Highest total sales region: East\n",
      "- Highest selling category: Groceries\n",
      "- Average order size: 1250.48\n"
     ]
    }
   ],
   "source": [
    "print(\"=== DESCRIPTIVE REPORT ===\\n\")\n",
    "print(\"1️⃣ Dataset Overview:\")\n",
    "print(f\"Total Records: {len(sales_df)}\")\n",
    "print(f\"Records with Sales > 500: {len(high_sales_df)}\\n\")\n",
    "\n",
    "print(\"2️⃣ Aggregated Sales Summary:\")\n",
    "display(aggregated_sales.describe())\n",
    "\n",
    "print(\"\\n3️⃣ Insights:\")\n",
    "print(\"- Highest total sales region:\", aggregated_sales.loc[aggregated_sales['Total_Sales'].idxmax(), 'Region'])\n",
    "print(\"- Highest selling category:\", aggregated_sales.loc[aggregated_sales['Total_Sales'].idxmax(), 'Category'])\n",
    "print(\"- Average order size:\", round(high_sales_df['Sales'].mean(), 2))\n"
   ]
  }
 ],
 "metadata": {
  "kernelspec": {
   "display_name": "Python 3",
   "language": "python",
   "name": "python3"
  },
  "language_info": {
   "codemirror_mode": {
    "name": "ipython",
    "version": 3
   },
   "file_extension": ".py",
   "mimetype": "text/x-python",
   "name": "python",
   "nbconvert_exporter": "python",
   "pygments_lexer": "ipython3",
   "version": "3.11.4"
  }
 },
 "nbformat": 4,
 "nbformat_minor": 5
}
